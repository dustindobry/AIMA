{
  "cells": [
    {
      "cell_type": "markdown",
      "metadata": {
        "id": "view-in-github",
        "colab_type": "text"
      },
      "source": [
        "<a href=\"https://colab.research.google.com/github/dustindobry/AIMA/blob/Svenja-Stickinator/week_01_introduction_to_python.ipynb\" target=\"_parent\"><img src=\"https://colab.research.google.com/assets/colab-badge.svg\" alt=\"Open In Colab\"/></a>"
      ]
    },
    {
      "cell_type": "markdown",
      "metadata": {
        "id": "emTxzPvDtJbt"
      },
      "source": [
        "# AI in Medical Applications\n",
        "\n",
        "## Chapter 0: \"Introduction to Python\"\n",
        "\n",
        "Welcome to the seminar, we're glad you've made it here!\n",
        "\n",
        "Over the course of the following chapter, we will give you a quick introduction to Python, and some general tools you will probably find useful to know about. This tutorial is designed to be quick to complete. If you feel uncertain about some aspects of Python (maybe you're new to programming or find Python weird), that's no problem. There is a plethora of sources for Python online, and you can always come ask us.\n",
        "\n",
        "Now for some general rules.\n",
        "\n",
        "1) As people have different levels of prior knowledge about programming, some of you may find the following tasks to be extremely easy. If that is the case for you, you may skip to the end of the notebook. There are a couple of tasks which you should be able to solve by the end of this tutorial:\n",
        "- At the end of Chapter 0.9\n",
        "- In Chapter 0.10\n",
        "- **Committing your results to GitHub is mandatory.** (see Chapter 0.11)\n",
        "Since today is mostly going to be a tutorial session, the is exercise itself is not graded, you simply receive one point for committing your notebook to GitHub. Starting next week, all exercises will be graded.\n",
        "2) *No question is stupid*. If you don't know how something works, step 1 is to try and formulate your problem as a google search, and see if someone else asked the same question that you have. Usually they have. If you still cannot find an answer, or the problem is difficult to google search, feel free to talk to any of the PhDs supervising the course. That's what we're here for. Similarly, if you have a question about something in these prepared notebooks, ask it. We are not perfect and neither are the tutorials, so chances are that some things warrant additional explanation by us, or are even a little wrong.\n",
        "3) Experiment. Try to take apart the code and put it back together. The more you actually do instead of only read, the more will the solution stick in your memory. Counterintuitively, this is particularly true if you *don't* understand what the code you just executed actually does. One of the best ways to learn is to take apart someone elses code and reassemble it, or think of a small, private project that you want to do and try to realize it in Python. Learning by doing.\n",
        "4) If you ever find yourself thinking \"This should be a really common use case\", it probably is. Try to express what you want in terms of Python lingo and you will almost certainly find what you are looking for on Google and Stackoverflow. Most of the time, it is even already a single function or class in a package you already have. Finding out about features in this way is basically the norm, rather than the exception.\n",
        "5) If you manage a task partially but not fully, and your code doesn't quite run properly, no worries. You will probably receive more than 0 points anyway, and we can probably also tell you where the mistakes you made were and how to avoid them in the future. We won't bite."
      ]
    },
    {
      "cell_type": "markdown",
      "metadata": {
        "id": "2SfWmMjhYwVP"
      },
      "source": [
        "In case you want to, you can turn on Autosave in Colab, so your progress is saved. You can execute this, and any other cell by pressing Shift+Enter, or by pressing the little play button next to it."
      ]
    },
    {
      "cell_type": "code",
      "execution_count": null,
      "metadata": {
        "colab": {
          "base_uri": "https://localhost:8080/",
          "height": 34
        },
        "id": "QdqlLv20YwVP",
        "outputId": "c4b3a9a2-d88a-4ea7-d261-30823dd8373d"
      },
      "outputs": [
        {
          "output_type": "display_data",
          "data": {
            "application/javascript": [
              "IPython.notebook.set_autosave_interval(60000)"
            ]
          },
          "metadata": {}
        },
        {
          "output_type": "stream",
          "name": "stdout",
          "text": [
            "Autosaving every 60 seconds\n"
          ]
        }
      ],
      "source": [
        "%autosave 60"
      ]
    },
    {
      "cell_type": "markdown",
      "metadata": {
        "id": "IP0d65CutJbu"
      },
      "source": [
        "### Chapter 0.1: \"Variables and Built-ins\"\n",
        "\n",
        "Python is a high-level language, built on C. This means that in Python it is, usually, comparatively easy to get started and code *something* which works. The downside is that performance occasionally suffers a little bit. Most machine learning nowadays is done in Python, but the underlying code (that runs \"under the hood\" so to speak) is implemented in faster languages (C, C++, etc.). Thankfully, some very talented programmers have already done the hard part of creating extremely fast basic math operations running on the GPUs, and we only need to write the comparatively easy Python code. Eventually, the Python code actually makes use of their code, which means that we get the best of both worlds - easy code and fast/efficient implementation.\n",
        "\n",
        "Let's check out some basics.\n",
        "\n",
        "You can execute a block of code by selecting it with the mouse and pressing Shift + Enter, or by pressing the little play button on the top left corner of the block."
      ]
    },
    {
      "cell_type": "code",
      "execution_count": null,
      "metadata": {
        "colab": {
          "base_uri": "https://localhost:8080/"
        },
        "id": "WNd6_vsJtJbu",
        "outputId": "d2bedbe6-185e-416a-d45e-e33093b7c1f2"
      },
      "outputs": [
        {
          "output_type": "stream",
          "name": "stdout",
          "text": [
            "1\n",
            "<class 'int'>\n"
          ]
        }
      ],
      "source": [
        "# In Python, when we declare a variable, all we need to do is give it a name, and tell it what it is.\n",
        "# Instead of explicitly requiring us to tell it what we have given it, Python infers the so-called type\n",
        "# of the variable on its own.\n",
        "#\n",
        "# Python immediately knows that a is an integer, that b is a floating point number (in short: float),\n",
        "# and that the my_pet variable is a string.\n",
        "\n",
        "a = 1\n",
        "b = 2.5\n",
        "my_pet = \"dog\"\n",
        "\n",
        "# We can look at almost anything (not images) in Python using the print() function.\n",
        "# Here, we use it to tell us what the value of the variable is, and what the type of the variable is.\n",
        "\n",
        "print(a)\n",
        "print(type(a))\n",
        "\n",
        "# A good thing to keep in mind is that both you and other people will read your code. This means that\n",
        "# you want to keep it tidy:\n",
        "# 1) If there is code that doesn't have anything to do with other code, maybe leave a blank line.\n",
        "# 2) If you want to tell someone what you're doing, maybe write a comment (start the line with a '#') to\n",
        "# explain what you are doing.\n",
        "# 3) And, most importantly, if you create a variable, name it appropriately. For example, if you want to\n",
        "# have a variable that contains your dog's name, Sparky:\n",
        "\n",
        "x = \"Sparky\"        # Not a good name, because you won't remember what x stands for in a few days.\n",
        "pet_name = \"Sparky\" # A very good name, because it is short, but tells you what it represents.\n",
        "the_name_of_my_pet_whomst_i_love = \"Sparky\" # Not a good name, because it is far too long."
      ]
    },
    {
      "cell_type": "code",
      "execution_count": null,
      "metadata": {
        "id": "_gb3APXAtJbv",
        "colab": {
          "base_uri": "https://localhost:8080/"
        },
        "outputId": "83c9420a-0a5f-4db3-c16c-2b4c959c19bf"
      },
      "outputs": [
        {
          "output_type": "stream",
          "name": "stdout",
          "text": [
            "False\n",
            "True\n",
            "False\n"
          ]
        }
      ],
      "source": [
        "# The print() function is a so-called in-built function. This means that no matter which other things\n",
        "# you may be working with, these functions are always available to use. There is a number of other\n",
        "# in-builts which you will find extremely useful. For example, most math is done using a single sign:\n",
        "\n",
        "c = a + b   # addition\n",
        "d = b - a   # subtraction\n",
        "e = a * b   # multiplication\n",
        "f = a / b   # division\n",
        "g = a ** b  # power\n",
        "h = b // a  # floor division\n",
        "i = b % a   # modulo\n",
        "j = (a+1)*b # parentheses\n",
        "\n",
        "# Python also allows easy comparisons. A '==' checks, whether the left and right side evaluate to the\n",
        "# same value. A '!=' checks whether the left and right side evaluate to different values.\n",
        "# You can also use '>', '<', '>=' and '<=' for comparisons.\n",
        "# When you print the result, or save it to a new variable, it will be either 'True' or 'False'.\n",
        "\n",
        "print(a == b)\n",
        "print(a != b)\n",
        "k = (a == b)\n",
        "print(k)"
      ]
    },
    {
      "cell_type": "code",
      "execution_count": null,
      "metadata": {
        "id": "gqmsNMAVtJbv",
        "colab": {
          "base_uri": "https://localhost:8080/"
        },
        "outputId": "9a0d9035-96fd-44e6-ee0b-c47169047d22"
      },
      "outputs": [
        {
          "output_type": "stream",
          "name": "stdout",
          "text": [
            "False\n",
            "False\n"
          ]
        },
        {
          "output_type": "stream",
          "name": "stderr",
          "text": [
            "<>:5: SyntaxWarning: \"is\" with 'str' literal. Did you mean \"==\"?\n",
            "<>:5: SyntaxWarning: \"is\" with 'str' literal. Did you mean \"==\"?\n",
            "/tmp/ipython-input-2135152865.py:5: SyntaxWarning: \"is\" with 'str' literal. Did you mean \"==\"?\n",
            "  print(\"Hello\" is \"hello\")\n"
          ]
        }
      ],
      "source": [
        "# Because Python is your friend, it also allows you to make comparisons using 'is'. It is useful for\n",
        "# things other than math, too! You can compare pretty much anything.\n",
        "\n",
        "print(a is b)\n",
        "print(\"Hello\" is \"hello\")"
      ]
    },
    {
      "cell_type": "code",
      "execution_count": null,
      "metadata": {
        "id": "aTpfCOYetJbw",
        "colab": {
          "base_uri": "https://localhost:8080/"
        },
        "outputId": "d616c1ac-2a26-4393-e875-a7b2c7394b00"
      },
      "outputs": [
        {
          "output_type": "stream",
          "name": "stdout",
          "text": [
            "5\n"
          ]
        }
      ],
      "source": [
        "# Another common built-in function is 'len'. 'len' gives you the length (surprise) of anything\n",
        "# you use it on:\n",
        "\n",
        "print(len(\"Hello\"))\n",
        "\n",
        "# The string \"Hello\" has 5 characters, hence its length is 5.\n",
        "\n",
        "# Python has a lot of these and we discuss those functions as we need them."
      ]
    },
    {
      "cell_type": "markdown",
      "metadata": {
        "id": "FbQSsrh7tJbw"
      },
      "source": [
        "### Chapter 0.2: \"Functions and conditions\"\n",
        "\n",
        "Next, we will look at functions. A function is a piece of code that you know you will use often, but which you do not want\n",
        "to constantly rewrite and copy. The only thing you need to know about functions for now, is that they take *some* input and produce\n",
        "*some* output. We define functions with the 'def' keyword.\n",
        "\n",
        "Any function has a **signature** which shows its name and what sort of inputs it accepts:\n",
        "\n",
        "```python\n",
        "def myfunc(a, b):\n",
        "  return a * b\n",
        "```\n",
        "While python will not complain about this definition, it makes sense to include a variety of other information, such as so-called type hints and documentation.\n",
        "\n",
        "```python\n",
        "def myfunc(a: int, b: int) -> int:\n",
        "  \"\"\"\n",
        "  This is a short description of the function's inputs and returns\n",
        "  \"\"\"\n",
        "  return a * b\n",
        "```"
      ]
    },
    {
      "cell_type": "code",
      "execution_count": null,
      "metadata": {
        "colab": {
          "base_uri": "https://localhost:8080/"
        },
        "id": "RuP5P_GpYwVS",
        "outputId": "43f8e242-0430-4e56-94c7-d5dcf8fffa60"
      },
      "outputs": [
        {
          "output_type": "execute_result",
          "data": {
            "text/plain": [
              "6"
            ]
          },
          "metadata": {},
          "execution_count": 9
        }
      ],
      "source": [
        "def myfunc(a: int, b: int) -> int:\n",
        "  \"\"\"\n",
        "  This function returns the product of two integers a and b.\n",
        "  \"\"\"\n",
        "  return a * b\n",
        "\n",
        "myfunc(2, 3)"
      ]
    },
    {
      "cell_type": "code",
      "execution_count": null,
      "metadata": {
        "colab": {
          "base_uri": "https://localhost:8080/",
          "height": 35
        },
        "id": "7QtnBV_CYwVT",
        "outputId": "3d584b95-99f0-46cd-da7e-4bb15e8dd937"
      },
      "outputs": [
        {
          "output_type": "execute_result",
          "data": {
            "text/plain": [
              "'333'"
            ],
            "application/vnd.google.colaboratory.intrinsic+json": {
              "type": "string"
            }
          },
          "metadata": {},
          "execution_count": 10
        }
      ],
      "source": [
        "# Let's try putting in something that isn't a number, but rather text (called a string).\n",
        "\n",
        "myfunc('3', 3)"
      ]
    },
    {
      "cell_type": "markdown",
      "metadata": {
        "id": "OGAsiRLyYwVT"
      },
      "source": [
        "You may notice that the function works, even if we input arguments that are not integers such as floats or even strings and lists. While this flexibility is among the things that make python great, they can also be very confusing for beginners. While type hints can be a part of a function's signature, they are not enforced by the compiler.\n",
        "\n",
        "When a function accepts multiple data types, we can let others know by relaxing the type hints:\n",
        "\n",
        "```python\n",
        "def myfunc(a: int | float, b: int | float) -> int | float:\n",
        "  \"\"\"\n",
        "  This function returns the product of two numbers a and b.\n",
        "  \"\"\"\n",
        "  return a * b\n",
        "```\n",
        "\n",
        "Not all functions have inputs or return something:\n",
        "\n",
        "This is a perfectly valid function:\n",
        "\n",
        "```python\n",
        "def no_inputs() -> int:\n",
        "  some_var = 5\n",
        "  return some_var\n",
        "```\n",
        "\n",
        "as well as this one:\n",
        "\n",
        "```python\n",
        "def no_returns(some_arg: str, some_other_arg: str) -> None:\n",
        "  print(f'The inputs to this function call were {some_arg=} and {some_other_arg=}')\n",
        "```"
      ]
    },
    {
      "cell_type": "markdown",
      "metadata": {
        "id": "9Z4ufEs0YwVT"
      },
      "source": [
        "#### Default arguments\n",
        "Sometimes it can be convenient to have a default value for an argument, reducing the amount of boilerplate code you have to write."
      ]
    },
    {
      "cell_type": "code",
      "execution_count": null,
      "metadata": {
        "id": "nLbtzagbYwVT"
      },
      "outputs": [],
      "source": [
        "def get_temperature(unit: str = 'Celsius'):\n",
        "  if unit == 'Celsius':\n",
        "    print('The current temperature is 24°C')\n",
        "  elif unit == 'Fahrenheit':\n",
        "    print('The current temperature is 75.2F')"
      ]
    },
    {
      "cell_type": "code",
      "execution_count": null,
      "metadata": {
        "colab": {
          "base_uri": "https://localhost:8080/"
        },
        "id": "kDe_kbnQYwVT",
        "outputId": "14bad00c-3591-4236-a550-325d0d39bcee"
      },
      "outputs": [
        {
          "output_type": "stream",
          "name": "stdout",
          "text": [
            "Hello SveDrey! Glad that you are here!\n"
          ]
        }
      ],
      "source": [
        "# Exercise\n",
        "# Write a function that outputs 'Hello {username}! Glad that you are here!'\n",
        "\n",
        "def greet() -> None:\n",
        "  #raise NotImplementedError\n",
        "  username = 'SveDrey'\n",
        "  print(f'Hello {username}! Glad that you are here!')\n",
        "greet()"
      ]
    },
    {
      "cell_type": "code",
      "execution_count": null,
      "metadata": {
        "colab": {
          "base_uri": "https://localhost:8080/"
        },
        "id": "nU4lU2rRYwVU",
        "outputId": "98b324a4-c986-4e29-ba74-b773223104a1"
      },
      "outputs": [
        {
          "output_type": "stream",
          "name": "stdout",
          "text": [
            "Hello SveDrey and User2! Glad that you are here!\n"
          ]
        }
      ],
      "source": [
        "# Exercise\n",
        "# Extend the function such that it can greet two people\n",
        "\n",
        "def greet_2() -> None:\n",
        "  #raise NotImplementedError\n",
        "  username_1 = 'SveDrey'\n",
        "  username_2 = 'User2'\n",
        "  print(f'Hello {username_1} and {username_2}! Glad that you are here!')\n",
        "\n",
        "greet_2()"
      ]
    },
    {
      "cell_type": "code",
      "execution_count": null,
      "metadata": {
        "colab": {
          "base_uri": "https://localhost:8080/"
        },
        "id": "I0GnBe9oYwVU",
        "outputId": "0b7fd8f7-95f2-4bfb-fd89-414de0fdba4a"
      },
      "outputs": [
        {
          "output_type": "stream",
          "name": "stdout",
          "text": [
            "Hello Svenja, Anna, Dustin! Glad that you are here!\n"
          ]
        }
      ],
      "source": [
        "# Exercise\n",
        "# How can we greet any number of people?\n",
        "\n",
        "def greet_any() -> None:\n",
        "  #raise NotImplementedError\n",
        "  list_names = ['Svenja', 'Anna', 'Dustin']\n",
        "  names = \", \".join(list_names)\n",
        "  print(f'Hello {names}! Glad that you are here!')\n",
        "\n",
        "\n",
        "greet_any()"
      ]
    },
    {
      "cell_type": "markdown",
      "metadata": {
        "id": "Ocaf0l1rYwVU"
      },
      "source": [
        "#### Scopes\n",
        "\n",
        "A scope is a textual region of a Python program where a namespace is directly accessible. “Directly accessible” here means that an unqualified reference to a name attempts to find the name in the namespace.\n",
        "\n",
        "Although scopes are determined statically, they are used dynamically. At any time during execution, there are 3 or 4 nested scopes whose namespaces are directly accessible:\n",
        "\n",
        "the innermost scope, which is searched first, contains the local names\n",
        "the scopes of any enclosing functions, which are searched starting with the nearest enclosing scope, contain non-local, but also non-global names\n",
        "the next-to-last scope contains the current module’s global names\n",
        "the outermost scope (searched last) is the namespace containing built-in names\n",
        "If a name is declared global, then all references and assignments go directly to the next-to-last scope containing the module’s global names. To rebind variables found outside of the innermost scope, the nonlocal statement can be used; if not declared nonlocal, those variables are read-only (an attempt to write to such a variable will simply create a new local variable in the innermost scope, leaving the identically named outer variable unchanged).\n",
        "\n",
        "Usually, the local scope references the local names of the (textually) current function. Outside functions, the local scope references the same namespace as the global scope: the module’s namespace. Class definitions place yet another namespace in the local scope.\n",
        "\n",
        "It is important to realize that scopes are determined textually: the global scope of a function defined in a module is that module’s namespace, no matter from where or by what alias the function is called. On the other hand, the actual search for names is done dynamically, at run time — however, the language definition is evolving towards static name resolution, at “compile” time, so don’t rely on dynamic name resolution! (In fact, local variables are already determined statically.)\n",
        "\n",
        "Let's take a look at some examples:"
      ]
    },
    {
      "cell_type": "code",
      "execution_count": null,
      "metadata": {
        "colab": {
          "base_uri": "https://localhost:8080/"
        },
        "id": "-rkuoQjfYwVU",
        "outputId": "a6fd2b03-161e-403f-9d83-e408a1f5ac8a"
      },
      "outputs": [
        {
          "output_type": "stream",
          "name": "stdout",
          "text": [
            "my_var=5\n",
            "my_var=10\n",
            "my_var=5\n"
          ]
        }
      ],
      "source": [
        "# global scope\n",
        "my_var: int = 5\n",
        "print(f'{my_var=}')\n",
        "\n",
        "def foo():\n",
        "  # local scope\n",
        "  my_var = 10\n",
        "  print(f'{my_var=}')\n",
        "\n",
        "foo()\n",
        "print(f'{my_var=}')"
      ]
    },
    {
      "cell_type": "markdown",
      "metadata": {
        "id": "Chmh40nAYwVU"
      },
      "source": [
        "Initially this might seem confusing, but as long as you keep track where you define variables, scopes become a second nature to you."
      ]
    },
    {
      "cell_type": "code",
      "execution_count": null,
      "metadata": {
        "colab": {
          "base_uri": "https://localhost:8080/"
        },
        "id": "GngC9iswYwVU",
        "outputId": "e7221384-d2d2-4410-d484-9349ca9f1b93"
      },
      "outputs": [
        {
          "output_type": "stream",
          "name": "stdout",
          "text": [
            "Till\n",
            "Tom\n"
          ]
        }
      ],
      "source": [
        "test_var: str = 'Tom'\n",
        "\n",
        "def test_function(test_var: str = 'Tim') -> str:\n",
        "  test_var = 'Till'\n",
        "  return test_var\n",
        "\n",
        "# What will this print?\n",
        "print(test_function(test_var))\n",
        "print(test_var)"
      ]
    },
    {
      "cell_type": "markdown",
      "metadata": {
        "id": "TVnEZ8q0YwVV"
      },
      "source": [
        "#### `*args` and `**kwargs`\n",
        "\n",
        "Sometimes you need to pass an arbitrary combination of arguments to a function. Instead of passing them in a list, we can make use of the `*args` notation."
      ]
    },
    {
      "cell_type": "code",
      "execution_count": null,
      "metadata": {
        "colab": {
          "base_uri": "https://localhost:8080/"
        },
        "id": "QE5slxPuYwVV",
        "outputId": "3ec730d5-afef-4f47-9f86-a37c0b15f2db"
      },
      "outputs": [
        {
          "output_type": "stream",
          "name": "stdout",
          "text": [
            "1\n",
            "2\n",
            "3\n",
            "4\n",
            "5\n"
          ]
        }
      ],
      "source": [
        "def flexible_function(*args) -> None:\n",
        "  for arg in args:\n",
        "    print(arg)\n",
        "\n",
        "flexible_function(1, 2, 3, 4, 5)"
      ]
    },
    {
      "cell_type": "code",
      "execution_count": null,
      "metadata": {
        "colab": {
          "base_uri": "https://localhost:8080/"
        },
        "id": "mAuhgZYNYwVV",
        "outputId": "230c9524-fab1-49fd-d347-20e061834570"
      },
      "outputs": [
        {
          "output_type": "stream",
          "name": "stdout",
          "text": [
            "1\n",
            "2\n",
            "3\n",
            "4\n",
            "0\n",
            "1\n",
            "2\n",
            "1\n",
            "2\n",
            "3\n",
            "4\n",
            "5\n",
            "6\n",
            "7\n",
            "8\n",
            "9\n",
            "10\n",
            "11\n",
            "12\n",
            "13\n",
            "14\n",
            "15\n"
          ]
        }
      ],
      "source": [
        "# Exercise\n",
        "# Write a function that sums an arbitrary number of inputs without using sequences or the sum() built-in function\n",
        "\n",
        "def flex_sum(*args) -> int | float:\n",
        "  for arg in args:\n",
        "    print(arg)\n",
        "  #raise NotImplementedError\n",
        "\n",
        "flex_sum(1, 2, 3, 4)\n",
        "flex_sum(0, 1, 2)\n",
        "flex_sum(1, 2, 3, 4, 5, 6, 7, 8, 9, 10, 11, 12, 13, 14, 15)\n",
        "#*args gibt unterschiedliche Anzahl an Argumente in eine Funktion über"
      ]
    },
    {
      "cell_type": "markdown",
      "metadata": {
        "id": "o9s4segoYwVV"
      },
      "source": [
        "However, sometimes it is necessary to have context to certain argument. Say you want to write a function that writes a table reservation, but leaves room for custom remarks. In this case you can use the `**kwargs` notation:"
      ]
    },
    {
      "cell_type": "code",
      "execution_count": null,
      "metadata": {
        "colab": {
          "base_uri": "https://localhost:8080/"
        },
        "id": "jMSNKAKHYwVV",
        "outputId": "2d12fc05-fe63-4532-eb88-9c85a6a88e6e"
      },
      "outputs": [
        {
          "output_type": "stream",
          "name": "stdout",
          "text": [
            "You made a reservation for 4\n",
            "Your extra wishes are:\n",
            "vegetarian\t:\tTrue\n",
            "outside_table\t:\tYes please!\n"
          ]
        }
      ],
      "source": [
        "def table_reservation(num_people: int, **kwargs) -> None:\n",
        "  print(f'You made a reservation for {num_people}\\nYour extra wishes are:')   #\\n = neue Zeile\n",
        "  for key, value in kwargs.items():\n",
        "    print(f'{key}\\t:\\t{value}')     #\\t = Tabelarisch aufgelistet\n",
        "\n",
        "table_reservation(4, vegetarian=True, outside_table='Yes please!')"
      ]
    },
    {
      "cell_type": "markdown",
      "metadata": {
        "id": "mvtt8CCtYwVV"
      },
      "source": [
        "#### Lambda expressions\n",
        "\n",
        "Lambda expressions in python produce small, anonymous functions that follow a more strict syntax. In theory, you can avoid using lambda expressions altogether, but they are undeniably handy in certain situations."
      ]
    },
    {
      "cell_type": "code",
      "execution_count": null,
      "metadata": {
        "colab": {
          "base_uri": "https://localhost:8080/"
        },
        "id": "r_-DSWNnYwVV",
        "outputId": "e0a618f6-e83f-4366-b876-df6f0d53de96"
      },
      "outputs": [
        {
          "output_type": "stream",
          "name": "stdout",
          "text": [
            "['Apple', 'Banana', 'Pear', 'Apricot']\n"
          ]
        }
      ],
      "source": [
        "list_of_fruits: list = ['Apple', 'Banana', 'Pear', 'dragonfruit', 'cherry', 'Apricot']\n",
        "# We can easily filter this list using a nifty lambda expression:\n",
        "uppercase_fruits: list = list(filter(lambda x: x[0].isupper(), list_of_fruits))   #prüft ob der erste Bchstabe groß oder klein geschrieben ist\n",
        "print(uppercase_fruits)"
      ]
    },
    {
      "cell_type": "markdown",
      "metadata": {
        "id": "i1NPMiz0YwVW"
      },
      "source": [
        "#### Decorators\n",
        "\n",
        "What Are Decorators in Python?\n",
        "\n",
        "A decorator in Python is a higher-order function that modifies or extends the behavior of another function without modifying its actual code. Decorators are commonly used for logging, timing execution, enforcing access control, memoization (caching), and more.\n",
        "\n",
        "How Do Decorators Work?\n",
        "\n",
        "A decorator is a function that takes another function as an argument, wraps it in another function (usually called wrapper), and returns the wrapped function.\n"
      ]
    },
    {
      "cell_type": "code",
      "execution_count": null,
      "metadata": {
        "colab": {
          "base_uri": "https://localhost:8080/",
          "height": 53
        },
        "id": "fCICnhh0YwVW",
        "outputId": "519791d0-e7ba-4301-dc52-4de3dc914c79"
      },
      "outputs": [
        {
          "output_type": "stream",
          "name": "stdout",
          "text": [
            "Function example_function took 1.000198 seconds to execute.\n"
          ]
        },
        {
          "output_type": "execute_result",
          "data": {
            "text/plain": [
              "'Finished'"
            ],
            "application/vnd.google.colaboratory.intrinsic+json": {
              "type": "string"
            }
          },
          "metadata": {},
          "execution_count": 21
        }
      ],
      "source": [
        "import time\n",
        "\n",
        "def timing_decorator(func):\n",
        "    \"\"\"Decorator that times the execution of a function.\"\"\"\n",
        "    def wrapper(*args, **kwargs):\n",
        "        start_time = time.time()\n",
        "        result = func(*args, **kwargs)\n",
        "        end_time = time.time()\n",
        "        elapsed_time = end_time - start_time\n",
        "        print(f\"Function {func.__name__} took {elapsed_time:.6f} seconds to execute.\")\n",
        "        return result\n",
        "    return wrapper\n",
        "\n",
        "# Example usage\n",
        "@timing_decorator\n",
        "def example_function():\n",
        "    time.sleep(1)\n",
        "    return \"Finished\"\n",
        "\n",
        "# Run the function\n",
        "example_function()"
      ]
    },
    {
      "cell_type": "markdown",
      "metadata": {
        "id": "Y91fw2mUtJby"
      },
      "source": [
        "### Chapter 0.3: \"Import statements\"\n",
        "\n",
        "Often, code that we want to write already exists. In other cases, maybe the code we want to write is just too hard for\n",
        "us to write ourselves. In such cases, we 'import' code. Typically, this is done once, at the start of any program you\n",
        "write. As a general rule, it is good to import only the things you need. However, importing things you don't need is\n",
        "fine, too."
      ]
    },
    {
      "cell_type": "code",
      "execution_count": null,
      "metadata": {
        "id": "bP-UlOUJtJbz"
      },
      "outputs": [],
      "source": [
        "# If we want to import code from a library called 'numpy', we do it like this:\n",
        "import numpy\n",
        "import math\n",
        "\n",
        "# We can even give it a new name, if we are particularly lazy. Now, instead of\n",
        "# calling a function by the name 'numpy.array', we can simply write 'np.array'.\n",
        "import numpy as np\n",
        "\n",
        "# If we only want something very specific, we can import one or several methods\n",
        "# like so:\n",
        "from numpy import array, random"
      ]
    },
    {
      "cell_type": "markdown",
      "metadata": {
        "id": "Z2fmrj1BtJbz"
      },
      "source": [
        "Many of these libraries come pre-installed with Python, but are not always loaded, such as the os or sys libraries. Others must be installed first and can then be used, a process that happens automatically in Colab if you don't already have them.\n",
        "\n",
        "We can even make our own code, and import it, given some conditions:\n",
        "1) The file must be a regular .py file. While it is possible to import from Jupyter Notebooks (the thing we are working in right now), it is not recommended.\n",
        "2) The computer must know where to look for the files. You can extend the places that vscode will search by providing a custom environment, or even at runtime. Below, we show the latter method."
      ]
    },
    {
      "cell_type": "code",
      "execution_count": null,
      "metadata": {
        "id": "tISK7eI2tJbz"
      },
      "outputs": [],
      "source": [
        "import sys\n",
        "# Look for importable stuff in the current directory, ...\n",
        "sys.path.append(\"./\")\n",
        "# ... look in directory above, ...\n",
        "sys.path.append(\"../\")\n",
        "# ... and check some other places.\n",
        "sys.path.append(\"/some/other/place\")\n",
        "\n",
        "\n"
      ]
    },
    {
      "cell_type": "markdown",
      "metadata": {
        "id": "jx-U02CytJbz"
      },
      "source": [
        "### Chapter 0.4: \"Data types\"\n",
        "\n",
        "Python has *a lot* different data structures, many of which we will learn about later.\n",
        "However, some are particularly useful. Even outside of the context of machine learning, it is good to know these."
      ]
    },
    {
      "cell_type": "markdown",
      "metadata": {
        "id": "7eMV7EJUtJbz"
      },
      "source": [
        "#### Chapter 0.4.1 \"Lists\""
      ]
    },
    {
      "cell_type": "code",
      "execution_count": null,
      "metadata": {
        "id": "6LJCo5BLtJbz",
        "colab": {
          "base_uri": "https://localhost:8080/"
        },
        "outputId": "f9007e4c-68d6-4047-b923-cf1f68c45e5b"
      },
      "outputs": [
        {
          "output_type": "stream",
          "name": "stdout",
          "text": [
            "[2, 4, 6, 8]\n",
            "[2, '4', 'six', 8.0, [2, 4, 6, 8]]\n"
          ]
        }
      ],
      "source": [
        "# The most common data type anywhere is probably the List. An explanation of what a List is works best when showing it.\n",
        "# This is a List:\n",
        "\n",
        "my_first_list = [2, 4, 6, 8]\n",
        "print(my_first_list)\n",
        "\n",
        "# You can have anything you want inside of a List - integer numbers, floating point numbers, strings, booleans, even\n",
        "# things like functions and other lists! This is a completely valid list:\n",
        "\n",
        "#(booleans = True/False)\n",
        "my_second_list = [2, \"4\", \"six\", 8.0, my_first_list]\n",
        "print(my_second_list)"
      ]
    },
    {
      "cell_type": "code",
      "execution_count": null,
      "metadata": {
        "id": "izwaHF6CtJbz",
        "colab": {
          "base_uri": "https://localhost:8080/"
        },
        "outputId": "aef50c26-f0ac-4582-cd2e-decd2832cec1"
      },
      "outputs": [
        {
          "output_type": "stream",
          "name": "stdout",
          "text": [
            "2\n",
            "4\n"
          ]
        }
      ],
      "source": [
        "# You can look at elements of your list by looking at the list at a specific index.\n",
        "# Note that when we look at anything like a list in Python, we start our indexing at 0, not 1.\n",
        "\n",
        "# This will print the first element of our list, the integer 2:\n",
        "print(my_first_list[0])\n",
        "# This will print the second element of our list, the integer 4:\n",
        "print(my_first_list[1])"
      ]
    },
    {
      "cell_type": "code",
      "execution_count": null,
      "metadata": {
        "id": "Zps810GFtJbz",
        "colab": {
          "base_uri": "https://localhost:8080/"
        },
        "outputId": "a07a2cd2-60a5-4324-d927-a934699a6006"
      },
      "outputs": [
        {
          "output_type": "stream",
          "name": "stdout",
          "text": [
            "8\n",
            "6\n"
          ]
        }
      ],
      "source": [
        "# We can even start counting from the end and go towards the start.\n",
        "# This will print the last element of our list, the integer 8:\n",
        "print(my_first_list[-1])\n",
        "# This will print the second-to-last element of our list, the integer 6:\n",
        "print(my_first_list[-2])"
      ]
    },
    {
      "cell_type": "code",
      "execution_count": null,
      "metadata": {
        "id": "1ArLkj12tJb0",
        "colab": {
          "base_uri": "https://localhost:8080/"
        },
        "outputId": "e40f7390-111b-4f16-b4d9-8edef889f631"
      },
      "outputs": [
        {
          "output_type": "stream",
          "name": "stdout",
          "text": [
            "[2, 4]\n"
          ]
        }
      ],
      "source": [
        "# We can also look at parts of our list. Lets say that I want the first 2 values of my list.\n",
        "# This will give me a smaller list, containing the first two elements of my list:\n",
        "my_shorter_list = my_first_list[0:2]\n",
        "print(my_shorter_list)\n",
        "# The notation with the colon means \"start at index 0, stop at index 2\". Note that the stopping\n",
        "# point is NOT part of the new list."
      ]
    },
    {
      "cell_type": "code",
      "execution_count": null,
      "metadata": {
        "id": "yOSnwKoltJb0",
        "colab": {
          "base_uri": "https://localhost:8080/"
        },
        "outputId": "65a896a9-b4f6-4c3c-aec7-cad53c3c7d56"
      },
      "outputs": [
        {
          "output_type": "stream",
          "name": "stdout",
          "text": [
            "4\n"
          ]
        }
      ],
      "source": [
        "# Lists can also do other neat things.\n",
        "my_first_list = [2, 4, 6, 8]\n",
        "my_second_list = [2, \"4\", \"six\", 8.0]\n",
        "\n",
        "# They know how long they are:\n",
        "print(len(my_first_list))"
      ]
    },
    {
      "cell_type": "code",
      "execution_count": null,
      "metadata": {
        "id": "rGrp0WXPtJb0",
        "colab": {
          "base_uri": "https://localhost:8080/"
        },
        "outputId": "decc516d-2035-4f36-ecf8-ab223f1357e4"
      },
      "outputs": [
        {
          "output_type": "stream",
          "name": "stdout",
          "text": [
            "Yup, 'six' is in my list.\n"
          ]
        }
      ],
      "source": [
        "# They know whether something is in them or not:\n",
        "if \"six\" in my_second_list:\n",
        "    print(\"Yup, 'six' is in my list.\")"
      ]
    },
    {
      "cell_type": "code",
      "execution_count": null,
      "metadata": {
        "id": "Dy_h39VAtJb0",
        "colab": {
          "base_uri": "https://localhost:8080/"
        },
        "outputId": "95f424a8-63e7-4a5c-c41e-e1bbcd0fba14"
      },
      "outputs": [
        {
          "output_type": "stream",
          "name": "stdout",
          "text": [
            "[2, 4, 6, 8, 10]\n"
          ]
        }
      ],
      "source": [
        "# You can add new values to a list by 'appending' them:\n",
        "my_first_list.append(10)\n",
        "print(my_first_list)"
      ]
    },
    {
      "cell_type": "code",
      "execution_count": null,
      "metadata": {
        "id": "9JHZewUWtJb0",
        "colab": {
          "base_uri": "https://localhost:8080/"
        },
        "outputId": "1b2cf943-b86a-4267-cc5b-3cb428368be5"
      },
      "outputs": [
        {
          "output_type": "stream",
          "name": "stdout",
          "text": [
            "[3, 4, 6, 8, 10]\n"
          ]
        }
      ],
      "source": [
        "# You can overwrite old elements with new ones:\n",
        "my_first_list[0] = 3\n",
        "print(my_first_list)"
      ]
    },
    {
      "cell_type": "code",
      "execution_count": null,
      "metadata": {
        "id": "lwG9K09rtJb0",
        "colab": {
          "base_uri": "https://localhost:8080/"
        },
        "outputId": "3f4d563f-fdd9-48ec-e9f9-3a2a3d0ba027"
      },
      "outputs": [
        {
          "output_type": "stream",
          "name": "stdout",
          "text": [
            "[3, 4, 6, 8, 10, 2, '4', 'six', 8.0]\n"
          ]
        }
      ],
      "source": [
        "# You can even stick together two lists, by 'extending' a list:\n",
        "my_first_list.extend(my_second_list)\n",
        "print(my_first_list)"
      ]
    },
    {
      "cell_type": "markdown",
      "metadata": {
        "id": "doB0k6YmtJb0"
      },
      "source": [
        "#### Chapter 0.4.2: \"Dicts\""
      ]
    },
    {
      "cell_type": "code",
      "execution_count": null,
      "metadata": {
        "id": "lPloMfjctJb0",
        "colab": {
          "base_uri": "https://localhost:8080/"
        },
        "outputId": "c6ce1352-bb17-416d-cf7f-dcc4cc578a96"
      },
      "outputs": [
        {
          "output_type": "stream",
          "name": "stdout",
          "text": [
            "{'apples': 6, 'bananas': 4, 'strawberries': 20}\n",
            "6\n"
          ]
        }
      ],
      "source": [
        "# Another very common data type is the dict, or dictionary. It is somewhat similar to a list,\n",
        "# but not quite the same.\n",
        "# What makes dictionaries special is the way its contents are accessed. A dictionary has so-called\n",
        "# keys and values. To every key belongs a specific value. Keys are always unique, but values don't\n",
        "# have to be.\n",
        "\n",
        "# A typical dictionary looks like this:\n",
        "shopping_list = {\"apples\": 6, \"bananas\": 4, \"strawberries\": 20}\n",
        "print(shopping_list)\n",
        "\n",
        "# We can look at its contents with almost the same indexing we used for lists. Instead of looking\n",
        "# for index 0 or index 1 or something like that, we give the dictionary a key and ask it what the\n",
        "# value for this key is:\n",
        "num_apples = shopping_list[\"apples\"]\n",
        "print(num_apples)\n",
        "\n",
        "# The keys and values in a dictionary can be almost anything you want. However, it is much easier\n",
        "# and much less dangerous, if you use only strings or integers as keys. For values, you can do\n",
        "# whatever you want."
      ]
    },
    {
      "cell_type": "code",
      "execution_count": null,
      "metadata": {
        "id": "DNEqP-A-tJb1",
        "colab": {
          "base_uri": "https://localhost:8080/"
        },
        "outputId": "7a178933-6962-4119-a27d-b323ea43d620"
      },
      "outputs": [
        {
          "output_type": "stream",
          "name": "stdout",
          "text": [
            "{'apples': 5, 'bananas': 4, 'strawberries': 20, 'pretzels': 3}\n"
          ]
        }
      ],
      "source": [
        "# If you want to add something to an existing dicitonary, you can do so by providing the key and value.\n",
        "# Changing an existing value in a dictionary works the same way:\n",
        "shopping_list[\"apples\"] = 5\n",
        "shopping_list[\"pretzels\"] = 3\n",
        "print(shopping_list)"
      ]
    },
    {
      "cell_type": "code",
      "execution_count": null,
      "metadata": {
        "id": "ph9rEt6qtJb1",
        "colab": {
          "base_uri": "https://localhost:8080/"
        },
        "outputId": "bf8bc5a7-d540-4612-c9c9-3401ceb496b9"
      },
      "outputs": [
        {
          "output_type": "stream",
          "name": "stdout",
          "text": [
            "{'apples': 5, 'bananas': 4, 'strawberries': 20, 'pretzels': 3, 'bonbons': 30, 'chocolate_bars': 2}\n"
          ]
        }
      ],
      "source": [
        "# If you want to extend your dictionary, you can do so using .update:\n",
        "sweets = {\"bonbons\": 30, \"chocolate_bars\": 2}\n",
        "shopping_list.update(sweets)\n",
        "print(shopping_list)"
      ]
    },
    {
      "cell_type": "code",
      "execution_count": null,
      "metadata": {
        "id": "NiOFtM8YtJb1",
        "colab": {
          "base_uri": "https://localhost:8080/"
        },
        "outputId": "1e5a0ea0-0c8a-469a-d9da-8260c6eeee48"
      },
      "outputs": [
        {
          "output_type": "stream",
          "name": "stdout",
          "text": [
            "6\n"
          ]
        }
      ],
      "source": [
        "# A dictionary knows its own length:\n",
        "print(len(shopping_list))"
      ]
    },
    {
      "cell_type": "code",
      "execution_count": null,
      "metadata": {
        "id": "eKDD7x2jtJb1",
        "colab": {
          "base_uri": "https://localhost:8080/"
        },
        "outputId": "78946a6c-2904-40f4-819c-4d7f77bbcae0"
      },
      "outputs": [
        {
          "output_type": "stream",
          "name": "stdout",
          "text": [
            "Apples are on my shopping list.\n"
          ]
        }
      ],
      "source": [
        "# It also knows whether something is in it or not:\n",
        "if \"apples\" in list(shopping_list.keys()):\n",
        "    print(\"Apples are on my shopping list.\")"
      ]
    },
    {
      "cell_type": "code",
      "execution_count": null,
      "metadata": {
        "id": "CE6zx8hntJb1",
        "colab": {
          "base_uri": "https://localhost:8080/"
        },
        "outputId": "b98e76bb-d273-47ef-b179-0f3e3ed273a6"
      },
      "outputs": [
        {
          "output_type": "stream",
          "name": "stdout",
          "text": [
            "{'apples': 5, 'strawberries': 20, 'pretzels': 3, 'bonbons': 30, 'chocolate_bars': 2}\n"
          ]
        }
      ],
      "source": [
        "# You can even delete parts of your dictionary:\n",
        "del(shopping_list[\"bananas\"])\n",
        "print(shopping_list)"
      ]
    },
    {
      "cell_type": "markdown",
      "metadata": {
        "id": "TejWirRQtJb1"
      },
      "source": [
        "#### Chapter 0.4.3: \"Tuples\""
      ]
    },
    {
      "cell_type": "code",
      "execution_count": null,
      "metadata": {
        "id": "PFwsXuLatJb1"
      },
      "outputs": [],
      "source": [
        "# Tuples are a bit like lists. However, they have one key difference: Once you make a tuple,\n",
        "# you can't change it anymore. They are 'immutable'.\n",
        "# This may sound strange and plainly less useful than lists, but it can sometimes be faster\n",
        "# to use tuples over lists. There is also another feature you will find out about in a bit.\n",
        "\n",
        "# You can declare a tuple like this:\n",
        "my_tuple = (1, 2)\n",
        "\n",
        "# Just like lists and dicts, you can put basically anything into a tuple:\n",
        "another_tuple = (\"one\", 2.0, 3, \"4\")"
      ]
    },
    {
      "cell_type": "code",
      "execution_count": null,
      "metadata": {
        "id": "cSGljTmUtJb1",
        "colab": {
          "base_uri": "https://localhost:8080/"
        },
        "outputId": "bebfe462-aa98-46fc-9489-0a44134a416c"
      },
      "outputs": [
        {
          "output_type": "stream",
          "name": "stdout",
          "text": [
            "one\n",
            "('one', 2.0, 3)\n"
          ]
        }
      ],
      "source": [
        "# You can look at parts of your tuple just like with lists:\n",
        "print(another_tuple[0])\n",
        "print(another_tuple[0:3])"
      ]
    },
    {
      "cell_type": "code",
      "execution_count": null,
      "metadata": {
        "id": "hLiW0b5btJb1",
        "colab": {
          "base_uri": "https://localhost:8080/"
        },
        "outputId": "c6647dde-76b0-4f0b-9c50-1750bfb50550"
      },
      "outputs": [
        {
          "output_type": "stream",
          "name": "stdout",
          "text": [
            "Yup, '4' is in my tuple.\n"
          ]
        }
      ],
      "source": [
        "# You can check if something is in the tuple:\n",
        "if \"4\" in another_tuple:\n",
        "    print(\"Yup, '4' is in my tuple.\")"
      ]
    },
    {
      "cell_type": "code",
      "execution_count": null,
      "metadata": {
        "id": "AEbxi1YttJb2",
        "colab": {
          "base_uri": "https://localhost:8080/"
        },
        "outputId": "8cb38d4a-e7af-41f3-8226-e6431ba15d9a"
      },
      "outputs": [
        {
          "output_type": "stream",
          "name": "stdout",
          "text": [
            "1\n"
          ]
        }
      ],
      "source": [
        "# Now, what are tuples actually good for?\n",
        "# Python comes with a neat feature called tuple unpacking. You can see this feature in action below:\n",
        "\n",
        "my_tuple = (1, 2, 3)\n",
        "a, b, c = my_tuple\n",
        "print(a)\n",
        "\n",
        "# Python just saw that I wanted to declare three variables. On the other side of the '=' was a tuple\n",
        "# with three entries, and Python assigned the first entry to my first variable, second to second, etc."
      ]
    },
    {
      "cell_type": "code",
      "execution_count": null,
      "metadata": {
        "id": "Ji9Yh4F4tJb2",
        "colab": {
          "base_uri": "https://localhost:8080/"
        },
        "outputId": "bd6a49e1-b35b-478a-a335-4d6e2d40d650"
      },
      "outputs": [
        {
          "output_type": "stream",
          "name": "stdout",
          "text": [
            "5\n",
            "1\n"
          ]
        }
      ],
      "source": [
        "# Why is this useful?\n",
        "# Let's say I have a function that calculates several things for me. I want to get back all the\n",
        "# different outputs, and I will be using them for separate things. Tuple unpacking will take the\n",
        "# output from the function and try to 'unpack' it into however many variables I suggest:\n",
        "\n",
        "def my_function(a: int, b: int):\n",
        "    c = a + b\n",
        "    d = a - b\n",
        "    return c, d\n",
        "\n",
        "e = 3\n",
        "f = 2\n",
        "\n",
        "# Here I suggest g and h as variables, and tuple unpacking will expect my function to give back\n",
        "# a tuple of length two.\n",
        "g, h = my_function(a = e, b = f)\n",
        "print(g)\n",
        "print(h)"
      ]
    },
    {
      "cell_type": "markdown",
      "metadata": {
        "id": "yAlFCS-ytJb2"
      },
      "source": [
        "#### Chapter 0.4.4: \"Numpy Arrays\""
      ]
    },
    {
      "cell_type": "code",
      "execution_count": null,
      "metadata": {
        "id": "aEFUOiKxtJb2",
        "colab": {
          "base_uri": "https://localhost:8080/"
        },
        "outputId": "e1d17157-2888-45ed-a005-965d69c9ce8f"
      },
      "outputs": [
        {
          "output_type": "stream",
          "name": "stdout",
          "text": [
            "[ 2  4  6  8 10]\n",
            "[2 3 1 4 2]\n"
          ]
        }
      ],
      "source": [
        "# Numpy arrays are also a little bit like lists. However, there are some differences.\n",
        "# Let's make one. We create an array by calling the numpy.array function. The only\n",
        "# argument this function absolutely needs is a list.\n",
        "\n",
        "my_array = np.array([2, 4, 6, 8, 10])\n",
        "print(my_array)\n",
        "\n",
        "# We can also tell numpy to make us an array, for exampling by telling it randomly\n",
        "# roll us some integers\n",
        "\n",
        "my_random_array = np.random.randint(low = 0, high = 5, size = 5, dtype = np.int8)\n",
        "print(my_random_array)\n",
        "\n",
        "# Notice the 'dtype'? Every numpy array has a dtype, and every element inside our\n",
        "# array is definitely of that type. In this case, all elements in our array are 8-bit\n",
        "# integers."
      ]
    },
    {
      "cell_type": "code",
      "execution_count": null,
      "metadata": {
        "id": "5NIPt-2ctJb2",
        "colab": {
          "base_uri": "https://localhost:8080/"
        },
        "outputId": "ba3d284e-cdfc-4cc0-b2e8-90f1af711cf8"
      },
      "outputs": [
        {
          "output_type": "stream",
          "name": "stdout",
          "text": [
            "2\n"
          ]
        }
      ],
      "source": [
        "# We can do some of the things with a numpy array that we could do with lists.\n",
        "# In fact, it makes sense to think of numpy arrays as lists, which are only used\n",
        "# for maths - in essence, numpy arrays are matrices.\n",
        "\n",
        "# They do most of the stuff that lists do, such as ...\n",
        "# ... accessing elements:\n",
        "print(my_array[0])"
      ]
    },
    {
      "cell_type": "code",
      "execution_count": null,
      "metadata": {
        "id": "PmI7Z5l1tJb2",
        "colab": {
          "base_uri": "https://localhost:8080/"
        },
        "outputId": "015c52ba-91b9-4218-cf30-e6d414131b19"
      },
      "outputs": [
        {
          "output_type": "stream",
          "name": "stdout",
          "text": [
            "[2 4 6]\n"
          ]
        }
      ],
      "source": [
        "# ... slicing:\n",
        "print(my_array[0:3])"
      ]
    },
    {
      "cell_type": "code",
      "execution_count": null,
      "metadata": {
        "id": "8eli6yV8tJb2",
        "colab": {
          "base_uri": "https://localhost:8080/"
        },
        "outputId": "2072cbed-4982-40db-bfdd-2bc537fda315"
      },
      "outputs": [
        {
          "output_type": "stream",
          "name": "stdout",
          "text": [
            "5\n"
          ]
        }
      ],
      "source": [
        "# ... length:\n",
        "print(len(my_array))"
      ]
    },
    {
      "cell_type": "code",
      "execution_count": null,
      "metadata": {
        "id": "DYgqOl0EtJb2",
        "colab": {
          "base_uri": "https://localhost:8080/"
        },
        "outputId": "1371b1a4-141b-4e94-dc6d-5e23fa809957"
      },
      "outputs": [
        {
          "output_type": "stream",
          "name": "stdout",
          "text": [
            "[[1 2 3]\n",
            " [4 5 6]\n",
            " [7 8 9]]\n",
            "[[0. 0. 0.]\n",
            " [0. 0. 0.]\n",
            " [0. 0. 0.]]\n",
            "(3, 3)\n"
          ]
        }
      ],
      "source": [
        "# They also have a multitude of other features, which we will look at in the future.\n",
        "# One of them is particularly important however. Numpy arrays can have an arbitrary\n",
        "# number of dimensions. For example:\n",
        "my_matrix = np.array([[1, 2, 3], [4, 5, 6], [7, 8, 9]])\n",
        "my_other_matrix = np.zeros(shape = (3, 3))\n",
        "print(my_matrix)\n",
        "print(my_other_matrix)\n",
        "\n",
        "# You can check the shape of a numpy array by checking its shape attribute like so:\n",
        "print(my_matrix.shape)"
      ]
    },
    {
      "cell_type": "code",
      "execution_count": null,
      "metadata": {
        "id": "Slpd6yOltJb2",
        "colab": {
          "base_uri": "https://localhost:8080/"
        },
        "outputId": "80e41b86-00c8-46c3-f57d-6ecab09036ed"
      },
      "outputs": [
        {
          "output_type": "stream",
          "name": "stdout",
          "text": [
            "[[ 1  4  7 10]\n",
            " [ 2  5  8 11]\n",
            " [ 3  6  9 12]]\n"
          ]
        }
      ],
      "source": [
        "# Just like real matrices in maths, numpy arrays come with a ton of useful features,\n",
        "# such as transposing, summing, matrix multiplication, etc. Many of these will also\n",
        "# be available in PyTorch, which we will ultimately use for our machine learning.\n",
        "\n",
        "# Here are some examples.\n",
        "my_matrix = np.array([[1, 2, 3], [4, 5, 6], [7, 8, 9], [10, 11, 12]])\n",
        "\n",
        "# Transposition\n",
        "print(my_matrix.T)"
      ]
    },
    {
      "cell_type": "code",
      "execution_count": null,
      "metadata": {
        "id": "dPRlR3XTtJb2",
        "colab": {
          "base_uri": "https://localhost:8080/"
        },
        "outputId": "ef59dbae-cf32-437c-cc07-b4e211198abc"
      },
      "outputs": [
        {
          "output_type": "stream",
          "name": "stdout",
          "text": [
            "[[ 1  2  3  4  5  6]\n",
            " [ 7  8  9 10 11 12]]\n"
          ]
        }
      ],
      "source": [
        "# Reshaping\n",
        "print(np.reshape(my_matrix, (2, 6)))    # np.reshape(Matrix, (Zeilen,Spalten))"
      ]
    },
    {
      "cell_type": "code",
      "execution_count": null,
      "metadata": {
        "id": "z_TXHEa8tJb2",
        "colab": {
          "base_uri": "https://localhost:8080/"
        },
        "outputId": "7727cc70-a25f-4361-e0d0-c58003364b4b"
      },
      "outputs": [
        {
          "output_type": "stream",
          "name": "stdout",
          "text": [
            "[ 1  2  3  4  5  6  7  8  9 10 11 12]\n"
          ]
        }
      ],
      "source": [
        "# Flattening into a vector\n",
        "print(my_matrix.flatten())"
      ]
    },
    {
      "cell_type": "code",
      "execution_count": null,
      "metadata": {
        "id": "M4SBp_matJb3",
        "colab": {
          "base_uri": "https://localhost:8080/"
        },
        "outputId": "42e9a9ad-c901-48e0-a7ad-0e64f5dba821"
      },
      "outputs": [
        {
          "output_type": "stream",
          "name": "stdout",
          "text": [
            "[10 11 12]\n",
            "[ 3  6  9 12]\n"
          ]
        }
      ],
      "source": [
        "# Operations along a dimension\n",
        "print(np.max(my_matrix, axis = 0))        #axis = 0 -> vertikal ; axis= 1 -> horizontal\n",
        "print(np.max(my_matrix, axis = 1))        #max = suche Maximum der Spalte/Zeile\n",
        "\n",
        "# It is impossible to know all of them by heart. What you need to know is how to\n",
        "# express what you want to do in as concrete terms as possible. If you can do that,\n",
        "# you will find any function you need on google or in the numpy documentation."
      ]
    },
    {
      "cell_type": "code",
      "execution_count": null,
      "metadata": {
        "id": "tEPzjAdQtJb3",
        "colab": {
          "base_uri": "https://localhost:8080/"
        },
        "outputId": "203acd48-410b-4137-ef86-a35f5fcf4151"
      },
      "outputs": [
        {
          "output_type": "stream",
          "name": "stdout",
          "text": [
            "Im born in 2001\n",
            "Total people in the classroom 33\n",
            "3.5\n",
            "0.13999999999999999\n",
            "[[1 0 0]\n",
            " [0 1 0]\n",
            " [0 0 1]]\n",
            "[[4 0 0]\n",
            " [0 1 0]\n",
            " [0 0 2]]\n"
          ]
        }
      ],
      "source": [
        "# Try to create some lists, dictionaries, tuples and numpy arrays of your own.\n",
        "# If you know a math operation that you want to see, maybe a dot product, try\n",
        "# to find the function in numpy and see if it works the way you think it should!\n",
        "\n",
        "\n",
        "#list:\n",
        "my_list = [17, 11, 2001]\n",
        "print(f'Im born in {my_list[2]}')\n",
        "\n",
        "#dictionaries\n",
        "dic = {'student': 30, 'teachers': 3}\n",
        "total = dic['student'] + dic['teachers']\n",
        "print(f'Total people in the classroom {total}')\n",
        "\n",
        "#tupels\n",
        "tup_1 = (1, 2, 4, 5)\n",
        "tup_2 = (4, 0.7, 3.9)\n",
        "a, b, c, d  = tup_1\n",
        "e, f, g = tup_2\n",
        "\n",
        "print(f*d)\n",
        "print(f/d)\n",
        "\n",
        "#Array\n",
        "matrix_1 = np.array([[1, 0, 0], [0, 1, 0], [0, 0, 1]])\n",
        "print(matrix_1)\n",
        "matrix_2 = np.array([[4, 6, 2], [3, 1, 0], [6, 7, 2]])\n",
        "print(matrix_1 * matrix_2)"
      ]
    },
    {
      "cell_type": "markdown",
      "metadata": {
        "id": "lwu8TjmptJb3"
      },
      "source": [
        "### Chapter 0.5: \"Loops and Iterables\"\n",
        "\n",
        "Now that we've got some of the building blocks and know how to write code, let's do some problem solving.\n",
        "\n",
        "When you buy groceries, you put your perishable goods into the fridge (or so I hope). But, you don't close\n",
        "your eyes, take an item out of your bag and put it into the fridge and do this exactly three times or\n",
        "exactly 5 times. You always take the next thing in the bag and put it into the fridge, until the bag is\n",
        "empty, and you don't think about how many things you actually just put into the fridge exactly.\n",
        "\n",
        "The exact same pattern exists in programming and is one of the most common patterns in existence. This\n",
        "behaviour is called a 'loop'. Different languages handle loops slightly differently, but in broad strokes,\n",
        "they all do the same thing. Let's build some."
      ]
    },
    {
      "cell_type": "code",
      "execution_count": null,
      "metadata": {
        "id": "cFHZ8PaJtJb3",
        "colab": {
          "base_uri": "https://localhost:8080/"
        },
        "outputId": "8bd5061b-f106-4b0d-f8c7-1e81c9e639fa"
      },
      "outputs": [
        {
          "output_type": "stream",
          "name": "stdout",
          "text": [
            "Apples\n",
            "Bananas\n",
            "Strawberries\n"
          ]
        }
      ],
      "source": [
        "# The most common loop in python is the 'for' loop. It consists of two parts. An iterable\n",
        "# and the loop segment. An iterable, in layman's terms, is something you can iterate over.\n",
        "# For example, a list like [1, 2, 3] is an iterable. The first element is a 1, the second\n",
        "# is a 2, and so on. An iterable is capable of giving you (at the very least) the next\n",
        "# item, and telling you when it has no more items.\n",
        "# The loop segment is code that is executed for each iteration. The only rules are that you\n",
        "# cannot change your iterable during the iteration, and that your code must be indented.\n",
        "\n",
        "# Let's look at a practical example:\n",
        "shopping_list = [\"Apples\", \"Bananas\", \"Strawberries\"]\n",
        "for item in shopping_list:\n",
        "    print(item)\n",
        "\n",
        "# Our loop iterates over the iterable, the shopping list.\n",
        "# On every iteration, it takes the next item on the list and puts it into the variable 'item'.\n",
        "# In our loop segment, we simply print the 'item' variable."
      ]
    },
    {
      "cell_type": "code",
      "execution_count": null,
      "metadata": {
        "id": "NN22TnJhtJb3",
        "colab": {
          "base_uri": "https://localhost:8080/"
        },
        "outputId": "3ed538a7-a623-43af-9218-b07f16806fbc"
      },
      "outputs": [
        {
          "output_type": "stream",
          "name": "stdout",
          "text": [
            "30\n"
          ]
        }
      ],
      "source": [
        "# You can (and generally will) also access any other variables in your loop:\n",
        "numbers = [1, 4, 9, 16]\n",
        "sum = 0\n",
        "for number in numbers:\n",
        "    sum = sum + number\n",
        "print(sum)"
      ]
    },
    {
      "cell_type": "code",
      "execution_count": null,
      "metadata": {
        "id": "hReDEkEptJb3",
        "colab": {
          "base_uri": "https://localhost:8080/"
        },
        "outputId": "512603a3-22ab-46b5-afa2-ddc9f93c0fbe"
      },
      "outputs": [
        {
          "output_type": "stream",
          "name": "stdout",
          "text": [
            "0\n",
            "1\n",
            "2\n",
            "3\n",
            "4\n",
            "5\n",
            "6\n",
            "7\n",
            "8\n",
            "9\n"
          ]
        }
      ],
      "source": [
        "# Behind lists, one of the most common iterables is probably the range object:\n",
        "for n in range(10):\n",
        "    print(n)"
      ]
    },
    {
      "cell_type": "code",
      "execution_count": null,
      "metadata": {
        "id": "IWCsBywKtJb3",
        "colab": {
          "base_uri": "https://localhost:8080/"
        },
        "outputId": "be5f1382-582c-48eb-fcc0-1aaeac1c9e50"
      },
      "outputs": [
        {
          "output_type": "stream",
          "name": "stdout",
          "text": [
            "0 1\n",
            "1 4\n",
            "2 9\n",
            "3 16\n"
          ]
        }
      ],
      "source": [
        "# An alternative to having either the content of an iterable or a number, is using 'enumerate',\n",
        "# which gives you both of them:\n",
        "for index, item in enumerate(numbers):\n",
        "    print(index, item)"
      ]
    },
    {
      "cell_type": "code",
      "execution_count": null,
      "metadata": {
        "id": "L7H1S37TtJb3",
        "colab": {
          "base_uri": "https://localhost:8080/"
        },
        "outputId": "37030445-dfe7-4f88-a4c2-607458fae0bf"
      },
      "outputs": [
        {
          "output_type": "stream",
          "name": "stdout",
          "text": [
            "9\n"
          ]
        }
      ],
      "source": [
        "# Sometimes, you have two iterables and want to do something with both of them.\n",
        "# For example, maybe you have two lists of numbers, and want to pair them up to multiply them,\n",
        "# like in a dot product. For such use cases, 'zip' exists.\n",
        "vector_a = [1, 2, 3]\n",
        "vector_b = [3, 0, 2]\n",
        "sum = 0\n",
        "for ai, bi in zip(vector_a, vector_b):\n",
        "    sum = sum + ai * bi\n",
        "print(sum)"
      ]
    },
    {
      "cell_type": "code",
      "execution_count": null,
      "metadata": {
        "id": "0uLff3nItJb3",
        "colab": {
          "base_uri": "https://localhost:8080/"
        },
        "outputId": "2c3fd088-d790-4b47-9954-5c3382dbb52a"
      },
      "outputs": [
        {
          "output_type": "stream",
          "name": "stdout",
          "text": [
            "3\n",
            "Looks like 17 is a prime!\n",
            "17\n"
          ]
        }
      ],
      "source": [
        "# Loops also have some functionality to let you skip an iteration or stop the loop altogether.\n",
        "# The following function determines the smallest integers divisor of any integer in a very\n",
        "# naive fashion. We loop over all potential divisors from 0 to our dividend.\n",
        "\n",
        "# If the divisor is 0 or 1, we want to skip the current iteration. We do so with the keyword\n",
        "# 'continue'. The next iteration starts at the start of the for-loop's indentation\n",
        "\n",
        "# If the dividend modulo the divisor is 0, we have found our smallest divisor, and we want to\n",
        "# stop iterating. We can stop the iteration using the keyword 'break'. In this case, the code\n",
        "# skips ahead to where the indentation of the for-loop ends (see below).\n",
        "\n",
        "def find_smallest_divisor(dividend: int):\n",
        "    for divisor in range(dividend):\n",
        "        # continue jumps here\n",
        "        if divisor == 0 or divisor == 1:\n",
        "            continue\n",
        "        if dividend % divisor == 0:\n",
        "            break\n",
        "        if divisor== dividend-1:\n",
        "            print(f\"Looks like {dividend} is a prime!\")\n",
        "            return dividend\n",
        "    # break jumps here\n",
        "    return divisor\n",
        "\n",
        "print(find_smallest_divisor(9))\n",
        "print(find_smallest_divisor(17))"
      ]
    },
    {
      "cell_type": "code",
      "execution_count": null,
      "metadata": {
        "id": "NmhSx0yrtJb4",
        "colab": {
          "base_uri": "https://localhost:8080/",
          "height": 49,
          "referenced_widgets": [
            "c7c3a9d0b7dd41eba3aa028605ce2374",
            "4f8eb022fc32431c910531905470ab5a",
            "9056945781764274be69eea0869637bc",
            "b398712d851f46feb6df0ec9dcdaee0e",
            "d463c733280a49aba450f5226bec107d",
            "60dcf5b933ce48928340dd812017c87e",
            "b6a1d0d329eb4f91889b6fae0d59f5cb",
            "06dc7caaadfc466aa79179eef8cb473e",
            "0a77aa7244514d829eed9181787a8fed",
            "eb946fed415343058d6a7028c7749bd2",
            "eb44b7c15ecc4c0bbd2995c845b5e4bd"
          ]
        },
        "outputId": "d4750424-0cf5-4066-bbb3-3153ec9cdb1e"
      },
      "outputs": [
        {
          "output_type": "display_data",
          "data": {
            "text/plain": [
              "  0%|          | 0/5 [00:00<?, ?it/s]"
            ],
            "application/vnd.jupyter.widget-view+json": {
              "version_major": 2,
              "version_minor": 0,
              "model_id": "c7c3a9d0b7dd41eba3aa028605ce2374"
            }
          },
          "metadata": {}
        }
      ],
      "source": [
        "# One final thing that makes iterables cool: Progress bars.\n",
        "# Who doesn't like a good progress bar steadily filling up?\n",
        "# tqdm is a package that lets you display progress when\n",
        "# iterating over an iterable wrapped in tqdm.\n",
        "\n",
        "from tqdm.auto import tqdm\n",
        "import time\n",
        "\n",
        "my_numbers = [1, 2, 3, 4, 5]\n",
        "my_squares = []\n",
        "for number in tqdm(my_numbers):\n",
        "    my_squares.append(number ** 2)"
      ]
    },
    {
      "cell_type": "code",
      "execution_count": null,
      "metadata": {
        "id": "_W1qQrZDtJb4"
      },
      "outputs": [],
      "source": [
        "# Try to make yourself a small toy problem and solve it using a for loop.\n",
        "\n",
        "# If your first thought was \"That is not a sensible prime number detector\n",
        "# up there\", maybe that could be your task :)\n",
        "\n",
        "\n",
        "\n",
        "\n"
      ]
    },
    {
      "cell_type": "markdown",
      "metadata": {
        "id": "cy9_WWCYtJb4"
      },
      "source": [
        "### Chapter 0.6: \"List Comprehensions\"\n",
        "\n",
        "Python contains a nifty little feature called List Comprehension. This allows you to write a piece of code that\n",
        "would otherwise be a little unwieldy in a single short expression."
      ]
    },
    {
      "cell_type": "code",
      "execution_count": null,
      "metadata": {
        "id": "NRyS4r84tJb4",
        "colab": {
          "base_uri": "https://localhost:8080/"
        },
        "outputId": "b8d6da06-84c8-4d03-9e62-dffdb4839fde"
      },
      "outputs": [
        {
          "output_type": "stream",
          "name": "stdout",
          "text": [
            "[0, 1, 4, 9, 16, 25, 36, 49, 64, 81]\n",
            "[0, 1, 4, 9, 16, 25, 36, 49, 64, 81]\n"
          ]
        }
      ],
      "source": [
        "# The following two segments of code are equivalent and both create a list containing\n",
        "# the squares of the digits from 0 to 9:\n",
        "\n",
        "# Method 1\n",
        "squared_digits = []\n",
        "for x in range(10):\n",
        "    y = x ** 2\n",
        "    squared_digits.append(y)\n",
        "print(squared_digits)\n",
        "\n",
        "# Method 2\n",
        "squared_digits = [x ** 2 for x in range(10)]\n",
        "print(squared_digits)\n",
        "\n",
        "# We have essentially just executed an entire loop inside of the square brackets of\n",
        "# our list, at the moment of its creation."
      ]
    },
    {
      "cell_type": "code",
      "execution_count": null,
      "metadata": {
        "id": "S4YYfPoKtJb4",
        "colab": {
          "base_uri": "https://localhost:8080/"
        },
        "outputId": "0961390c-527f-40a3-9641-585b04f31475"
      },
      "outputs": [
        {
          "output_type": "stream",
          "name": "stdout",
          "text": [
            "{0: 0, 1: 1, 2: 4, 3: 9, 4: 16, 5: 25, 6: 36, 7: 49, 8: 64, 9: 81}\n"
          ]
        }
      ],
      "source": [
        "# This tool also works on other data types, such as tuples or dictionaries:\n",
        "squared_digits = {x: x**2 for x in range(10)}\n",
        "print(squared_digits)"
      ]
    },
    {
      "cell_type": "code",
      "execution_count": null,
      "metadata": {
        "id": "OoaWu6W4tJb4",
        "colab": {
          "base_uri": "https://localhost:8080/"
        },
        "outputId": "4090a915-604a-49e5-adad-32e841f89bbd"
      },
      "outputs": [
        {
          "output_type": "stream",
          "name": "stdout",
          "text": [
            "[0, 2, 4, 6, 8]\n"
          ]
        }
      ],
      "source": [
        "# It can even handle more complex instructions, such as conditionals.\n",
        "# Let's make a list that contains only digits that are even.\n",
        "only_even_digits = [x for x in range(10) if x % 2 == 0]\n",
        "print(only_even_digits)"
      ]
    },
    {
      "cell_type": "code",
      "execution_count": null,
      "metadata": {
        "id": "gU54mafKtJb4",
        "colab": {
          "base_uri": "https://localhost:8080/"
        },
        "outputId": "3c2d4576-4ee2-4c3a-fe10-797c1d6d975a"
      },
      "outputs": [
        {
          "output_type": "stream",
          "name": "stdout",
          "text": [
            "[0, 1, 4, 3, 16, 5, 36, 7, 64, 9]\n"
          ]
        }
      ],
      "source": [
        "# Let's make one that containts even and odd digits, but even digits are squared.\n",
        "square_even_digits = [x ** 2 if x % 2 == 0 else x for x in range(10)]\n",
        "print(square_even_digits)\n",
        "\n",
        "# List comprehensions are an extremely powerful tool which is worth practicing a little."
      ]
    },
    {
      "cell_type": "code",
      "execution_count": null,
      "metadata": {
        "id": "JigfGfR5tJb4",
        "colab": {
          "base_uri": "https://localhost:8080/"
        },
        "outputId": "a3ccd435-872d-456a-95d5-5e4ba598e77b"
      },
      "outputs": [
        {
          "output_type": "stream",
          "name": "stdout",
          "text": [
            "[2, 3, 5, 7, 11, 13, 17, 19, 23, 29, 31, 37, 41, 43, 47, 53, 59, 61, 67, 71, 73, 79, 83, 89, 97]\n"
          ]
        }
      ],
      "source": [
        "# Try to make a list containing the prime numbers up to 100 by using a list comprehension.\n",
        "# If you want to challenge yourself, try to do so without using any functions to check\n",
        "# whether a given number is prime. You can find a solution below.\n",
        "\n",
        "prime_numbers = [x for x in range(2, 100) if all( x % i != 0 for i in range(2, x) ) ]\n",
        "print(prime_numbers)\n",
        "\n"
      ]
    },
    {
      "cell_type": "code",
      "execution_count": null,
      "metadata": {
        "id": "umhs354ptJb4",
        "colab": {
          "base_uri": "https://localhost:8080/"
        },
        "outputId": "5da082be-85c2-403d-a4af-cd03fd435c8b"
      },
      "outputs": [
        {
          "output_type": "stream",
          "name": "stdout",
          "text": [
            "[2, 3, 5, 7, 11, 13, 17, 19, 23, 29, 31, 37, 41, 43, 47, 53, 59, 61, 67, 71, 73, 79, 83, 89, 97]\n",
            "[2, 3, 5, 7, 11, 13, 17, 19, 23, 29, 31, 37, 41, 43, 47, 53, 59, 61, 67, 71, 73, 79, 83, 89, 97]\n"
          ]
        }
      ],
      "source": [
        "import numpy as np\n",
        "# Solution with functions:\n",
        "def is_prime(dividend: int):\n",
        "    # If the dividend is smaller than 2, it can't be prime\n",
        "    if dividend < 2:\n",
        "        return False\n",
        "    # If the dividend is two, it is a prime.\n",
        "    elif dividend == 2:\n",
        "        return True\n",
        "    else:\n",
        "        # Try all divisors starting at 2 and up to the square root of the dividend\n",
        "        for divisor in range(2, max(3, int(np.sqrt(dividend)+1))):\n",
        "            if dividend % divisor == 0:\n",
        "                return False\n",
        "            else:\n",
        "                pass\n",
        "                # 'pass' means 'do nothing' - instead of writing\n",
        "                # else: pass, you can also simply write nothing\n",
        "        # If we have gotten past the loop without finding a divisor\n",
        "        # (and thus returning it), the number is a prime.\n",
        "        return True\n",
        "\n",
        "primesC = [x for x in range(1, 101) if is_prime(x) is True]\n",
        "print(primesC)\n",
        "\n",
        "# Solution without non-native functions:\n",
        "primesC = [x for x in range(2, 101) if len([y for y in range(2, max(3, int(math.sqrt(x)+1))) if (x % y == 0 and x != 2)]) == 0]\n",
        "print(primesC)\n",
        "\n",
        "# As a final note, we should mention that even though the second solution is maybe a little more clever\n",
        "# and shorter, the first solution is actually the better one by far - you always want your code to be readable!"
      ]
    },
    {
      "cell_type": "markdown",
      "metadata": {
        "id": "lifw8iv1tJb5"
      },
      "source": [
        "### Chapter 0.7: \"OS and files\"\n",
        "\n",
        "When working with any sort of data, we will not only have to work with lists or arrays we made ourselves. Naturally, we will use pre-existing images or other data. Therefore, we need at least some passing familiarity with how our file system works, how we can open text files or images so that we can work with them.\n",
        "\n",
        "The most common function used when working with files is open(). In order to open a file, with open() or with any other function, you need to know where the file is. You can refer to files in two ways: relative paths and absolute paths.\n",
        "\n",
        "A relative path looks like this:\n",
        "```relative_path = \"./example.txt\"```.\n",
        "The ```.``` means \"start at the current folder\", the one that this notebook lives in.\n",
        "\n",
        "An absolute path looks like this:\n",
        "```absolute_path = \"/Projects/AIMA/Course_Materials/Chapter_0/example.txt```.\n",
        "The ```/``` at the start means that you start at the bottom of the file system, also\n",
        "called \"root\", and then go from there.\n",
        "\n",
        "Let's play around with some files."
      ]
    },
    {
      "cell_type": "code",
      "execution_count": null,
      "metadata": {
        "id": "UJESoQWCvrj3"
      },
      "outputs": [],
      "source": [
        "# First, we create some prepared files. We'll find out in a second, how this works.\n",
        "with open(\"./example.txt\", \"w\") as o:\n",
        "    o.write(\"Hello World\\nfoo bar\")\n",
        "with open(\"./staff.csv\", \"w\") as o:\n",
        "    o.write(\"name,age,gender\\nFreddy,28,male\\nMarie,24,female\\nProf. Kleesiek,900,male\")"
      ]
    },
    {
      "cell_type": "code",
      "execution_count": null,
      "metadata": {
        "id": "SgTLnWzJtJb5",
        "colab": {
          "base_uri": "https://localhost:8080/"
        },
        "outputId": "f72024c2-7dad-4498-a915-fb7f7297aa7c"
      },
      "outputs": [
        {
          "output_type": "stream",
          "name": "stdout",
          "text": [
            "Hello World\n",
            "\n",
            "foo bar\n"
          ]
        }
      ],
      "source": [
        "# This is how you open a file in read mode:\n",
        "out = open(\"./example.txt\", \"r\")\n",
        "\n",
        "# This is how you read all lines from the text:\n",
        "lines = out.readlines()\n",
        "\n",
        "# readlines() returns a list, and each element of the list is one line of text:\n",
        "for line in lines:\n",
        "    print(line)\n",
        "\n",
        "# And this is how you close it:\n",
        "out.close()"
      ]
    },
    {
      "cell_type": "code",
      "execution_count": null,
      "metadata": {
        "id": "wjBbnyu7tJb5",
        "colab": {
          "base_uri": "https://localhost:8080/"
        },
        "outputId": "224e6717-37ec-4ad2-f044-181550bc092c"
      },
      "outputs": [
        {
          "output_type": "stream",
          "name": "stdout",
          "text": [
            "Hello World\n",
            "\n",
            "foo bar\n"
          ]
        }
      ],
      "source": [
        "# There is also a cleaner way of opening files, the 'with' statement:\n",
        "\n",
        "# Whatever you encapsulate in a 'with' is created for this context.\n",
        "with open(\"./example.txt\", \"r\") as out:\n",
        "    # I can use 'out' in here:\n",
        "    lines = out.readlines()\n",
        "\n",
        "# I would not be able to use 'out' outside of this context.\n",
        "# The context manager has closed 'out' for me again.\n",
        "# It has also thrown it away.\n",
        "\n",
        "# However, variables I created in the 'with' block still exist:\n",
        "for line in lines:\n",
        "    print(line)"
      ]
    },
    {
      "cell_type": "code",
      "execution_count": null,
      "metadata": {
        "id": "RuXPPoZ9tJb5",
        "colab": {
          "base_uri": "https://localhost:8080/"
        },
        "outputId": "c173290e-2fb0-4965-f45c-fb5fba320b58"
      },
      "outputs": [
        {
          "output_type": "stream",
          "name": "stdout",
          "text": [
            "Hello World\n",
            "\n",
            "foo bar\n",
            "\n",
            "Programming is easy.\n",
            "\n",
            "I am a god.\n"
          ]
        }
      ],
      "source": [
        "# We can also write to files.\n",
        "# To do this, we open our file in write mode 'w' (which overwrites)\n",
        "# or in append mode 'a' (which appends what we write to the end):\n",
        "with open(\"./example.txt\", \"a\") as out:\n",
        "    # String writing allows some controls.\n",
        "    # For example, '\\n' denotes a newline, or '\\t' a tab.\n",
        "    out.write(\"\\n\")\n",
        "    out.write(\"Programming is easy.\\n\")\n",
        "    out.write(\"I am a god.\")\n",
        "\n",
        "# Let's confirm that writing to the file worked:\n",
        "with open(\"./example.txt\", \"r\") as out:\n",
        "    lines = out.readlines()\n",
        "for line in lines:\n",
        "    print(line)\n",
        "\n",
        "# We can also create files as we open them, even if they don't yet exist."
      ]
    },
    {
      "cell_type": "code",
      "execution_count": null,
      "metadata": {
        "id": "NMuIGCzotJb5",
        "colab": {
          "base_uri": "https://localhost:8080/"
        },
        "outputId": "2faae74b-9407-428e-e31e-f2f00e87871c"
      },
      "outputs": [
        {
          "output_type": "stream",
          "name": "stdout",
          "text": [
            "apples: 3\n",
            "\n",
            "Bread: 1\n",
            "\n",
            "chips: 4\n",
            "\n",
            "milk: 3\n",
            "\n"
          ]
        }
      ],
      "source": [
        "# Now it's your turn for a moment.\n",
        "# Make yourself a shopping dictionary.\n",
        "# Each key is something you want to buy. Each value is the amount you want to buy.\n",
        "groceries = {'apples': 3, 'Bread': 1, 'chips': 4, 'milk': 3}\n",
        "# Now try to use a loop and your knowledge of open() to make a file called 'shopping_list'\n",
        "# and neatly write your shopping list into the file. Which file type makes sense?\n",
        "with open(\"./shoppping_list\", \"w\") as file:\n",
        "    for item, amount in groceries.items():\n",
        "      file.write(f\"{item}: {amount}\\n\")\n",
        "\n",
        "with open(\"./shoppping_list\", \"r\") as out:\n",
        "  lines = out.readlines()\n",
        "for line in lines:\n",
        "  print(line)\n",
        "\n",
        "\n"
      ]
    },
    {
      "cell_type": "markdown",
      "metadata": {
        "id": "M-HHG-srtJb5"
      },
      "source": [
        "Next, let's check out a format called csv - comma-separated values Originally, these were text files that looked something like this:\n",
        "\n",
        "1,2,3  \n",
        "4,5,6    \n",
        "7,8,9    \n",
        "\n",
        "Nowadays, its not uncommon to also write text or more esoteric things between the commas.\n",
        "\n",
        "Reading and writing to those files does not work differently from regular text files. However, there is several nice tools to help use this particular formatting style efficiently. For now, learning the simplest one of them will suffice."
      ]
    },
    {
      "cell_type": "code",
      "execution_count": null,
      "metadata": {
        "id": "pXqvDKyOtJb5",
        "colab": {
          "base_uri": "https://localhost:8080/"
        },
        "outputId": "ffed9207-ae53-4c06-ca57-d9bab34eae04"
      },
      "outputs": [
        {
          "output_type": "stream",
          "name": "stdout",
          "text": [
            "['1', '2', '3']\n"
          ]
        }
      ],
      "source": [
        "# split() is a simple method that every string is capable of.\n",
        "# You specify by what delimiter the string is supposed to be split.\n",
        "print(\"1,2,3\".split(\",\"))"
      ]
    },
    {
      "cell_type": "code",
      "execution_count": null,
      "metadata": {
        "id": "XDu_I0oJtJb5",
        "colab": {
          "base_uri": "https://localhost:8080/"
        },
        "outputId": "9fcb825f-d27d-447e-9c11-4758ac95e839"
      },
      "outputs": [
        {
          "output_type": "stream",
          "name": "stdout",
          "text": [
            "name,age,gender\n",
            "\n",
            "Freddy,28,male\n",
            "\n",
            "Marie,24,female\n",
            "\n",
            "Prof. Kleesiek,900,male\n"
          ]
        }
      ],
      "source": [
        "# Try to read in the staff.csv file like you have learned above.\n",
        "# Using split and loops, make one list each which contains all\n",
        "# names, ages and genders.\n",
        "\n",
        "with open(\"./staff.csv\", \"r\") as out:\n",
        "    lines = out.readlines()\n",
        "for line in lines:\n",
        "  print(line)\n",
        "\n",
        "\n",
        "\n"
      ]
    },
    {
      "cell_type": "code",
      "execution_count": null,
      "metadata": {
        "id": "89qScuUCtJb5",
        "colab": {
          "base_uri": "https://localhost:8080/"
        },
        "outputId": "4f8edd49-578c-489c-c909-a5877285b4df"
      },
      "outputs": [
        {
          "output_type": "stream",
          "name": "stdout",
          "text": [
            "['.config', 'example.txt', 'shoppping_list', 'staff.csv', 'sample_data']\n"
          ]
        }
      ],
      "source": [
        "# So, what do we do if we don't know where our files live, or what\n",
        "# their names are? It is quite common to have so much data, that\n",
        "# you cannot know all of it, nor manually write it.\n",
        "\n",
        "# The os package provides us with the tools that we need.\n",
        "import os\n",
        "\n",
        "# os.listdir() tells us the contents of a directory. It returns a list.\n",
        "# The \"./\" is the name of the directory to search and means 'wherever\n",
        "# we are right now.'\n",
        "output = os.listdir(\"./\")\n",
        "print(output)"
      ]
    },
    {
      "cell_type": "code",
      "execution_count": null,
      "metadata": {
        "id": "bs74t3fPtJb5",
        "colab": {
          "base_uri": "https://localhost:8080/"
        },
        "outputId": "93de75df-a4f3-4c1b-c10c-537acd5dba33"
      },
      "outputs": [
        {
          "output_type": "stream",
          "name": "stdout",
          "text": [
            "['/content/.config', '/content/example.txt', '/content/shoppping_list', '/content/staff.csv', '/content/sample_data']\n"
          ]
        }
      ],
      "source": [
        "# Notice that there is files and directories in the output.\n",
        "# Also, we have been told their names, but never their full paths.\n",
        "\n",
        "# Let's get some full paths using os.path.join().\n",
        "# os.path.join() attaches parts of a file's path to one another,\n",
        "# adding \"/\" as needed to make it a correct path.\n",
        "full_paths = [os.path.join(os.getcwd(), p) for p in output]\n",
        "print(full_paths)"
      ]
    },
    {
      "cell_type": "code",
      "execution_count": null,
      "metadata": {
        "id": "qvJKI8n5tJb5",
        "colab": {
          "base_uri": "https://localhost:8080/"
        },
        "outputId": "a93962dd-6b0e-46fd-9527-0b471bc531a0"
      },
      "outputs": [
        {
          "output_type": "stream",
          "name": "stdout",
          "text": [
            "['/content/example.txt', '/content/shoppping_list', '/content/staff.csv']\n",
            "['/content/.config', '/content/sample_data']\n"
          ]
        }
      ],
      "source": [
        "# We can filter the output to contain only directories or files\n",
        "# using isdir and isfile:\n",
        "only_files = [p for p in full_paths if os.path.isfile(p)]\n",
        "only_dirs = [p for p in full_paths if os.path.isdir(p)]\n",
        "print(only_files)\n",
        "print(only_dirs)"
      ]
    },
    {
      "cell_type": "markdown",
      "metadata": {
        "id": "xfjRBmfXtJb6"
      },
      "source": [
        "Just as with any other package, os offers a ton of utility you will learn about at some point in time. For now, this knowledge will hopefully suffice."
      ]
    },
    {
      "cell_type": "markdown",
      "metadata": {
        "id": "xVoR1MDktJb6"
      },
      "source": [
        "### Chapter 0.8: \"Try and Except\"\n",
        "\n",
        "We've seen earlier what happens if we break our code. Python will try to execute anything you write and only upon execution realize that maybe it was complete nonsense from the start. Sometimes such a mistake is easy to spot. Sometimes, it is buried within layers and layers of code and almost invisible. Worse, sometimes it's not even you who made the mistake!\n",
        "\n",
        "When you work with large amounts of data, you can not always guarantee that everything goes smoothly. Maybe one of your 3 million images has the wrong shape, or maybe it doesn't have an RGB channel, maybe the file is simply broken or the website you are downloading it from suddenly stops responding. How can you prevent an error that you don't know about in advance?\n",
        "\n",
        "Enter 'Try and Except'.\n",
        "\n",
        "Similar to 'If and Else', 'Try and Except' allows you to write code and execute it on some condition. However, for 'Try and Except', this condition is that Python is throwing an Exception. The 'Try' part wraps the code you want to run. The 'Except' part contains code that is executed if the 'Try' code fails."
      ]
    },
    {
      "cell_type": "code",
      "execution_count": null,
      "metadata": {
        "id": "rcthfhtWtJb6",
        "colab": {
          "base_uri": "https://localhost:8080/",
          "height": 193
        },
        "outputId": "0e4b7fc1-2369-477a-8cc7-4f58dd0ca4af"
      },
      "outputs": [
        {
          "output_type": "error",
          "ename": "ZeroDivisionError",
          "evalue": "division by zero",
          "traceback": [
            "\u001b[0;31m---------------------------------------------------------------------------\u001b[0m",
            "\u001b[0;31mZeroDivisionError\u001b[0m                         Traceback (most recent call last)",
            "\u001b[0;32m/tmp/ipython-input-2492089350.py\u001b[0m in \u001b[0;36m<cell line: 0>\u001b[0;34m()\u001b[0m\n\u001b[1;32m      7\u001b[0m \u001b[0mnew_numbers\u001b[0m \u001b[0;34m=\u001b[0m \u001b[0;34m[\u001b[0m\u001b[0;34m]\u001b[0m\u001b[0;34m\u001b[0m\u001b[0;34m\u001b[0m\u001b[0m\n\u001b[1;32m      8\u001b[0m \u001b[0;32mfor\u001b[0m \u001b[0md\u001b[0m \u001b[0;32min\u001b[0m \u001b[0mdivisors\u001b[0m\u001b[0;34m:\u001b[0m\u001b[0;34m\u001b[0m\u001b[0;34m\u001b[0m\u001b[0m\n\u001b[0;32m----> 9\u001b[0;31m     \u001b[0mnew_numbers\u001b[0m\u001b[0;34m.\u001b[0m\u001b[0mappend\u001b[0m\u001b[0;34m(\u001b[0m\u001b[0mmy_cool_number\u001b[0m \u001b[0;34m/\u001b[0m \u001b[0md\u001b[0m\u001b[0;34m)\u001b[0m\u001b[0;34m\u001b[0m\u001b[0;34m\u001b[0m\u001b[0m\n\u001b[0m\u001b[1;32m     10\u001b[0m \u001b[0mprint\u001b[0m\u001b[0;34m(\u001b[0m\u001b[0mnew_numbers\u001b[0m\u001b[0;34m)\u001b[0m\u001b[0;34m\u001b[0m\u001b[0;34m\u001b[0m\u001b[0m\n",
            "\u001b[0;31mZeroDivisionError\u001b[0m: division by zero"
          ]
        }
      ],
      "source": [
        "# Let's make some toy code using a Try/Except block.\n",
        "# We want to make a new list, which contains the result of a division.\n",
        "\n",
        "my_cool_number = 6\n",
        "divisors = [3, 2, 1, 0, \"a\"]\n",
        "\n",
        "new_numbers = []\n",
        "for d in divisors:\n",
        "    new_numbers.append(my_cool_number / d)\n",
        "print(new_numbers)"
      ]
    },
    {
      "cell_type": "code",
      "execution_count": null,
      "metadata": {
        "id": "ctGcowEWtJb6",
        "outputId": "520ff9b5-2027-4f6f-b18f-7577fe3695e4",
        "colab": {
          "base_uri": "https://localhost:8080/"
        }
      },
      "outputs": [
        {
          "output_type": "stream",
          "name": "stdout",
          "text": [
            "[2.0, 3.0, 6.0, inf, inf]\n"
          ]
        }
      ],
      "source": [
        "# Uh oh. We tried dividing by zero, which throws a ZeroDivisionError.\n",
        "# Let's say we don't mind having an infinity in our list:\n",
        "\n",
        "new_numbers = []\n",
        "for d in divisors:\n",
        "    try:\n",
        "        new_numbers.append(my_cool_number / d)\n",
        "    except:\n",
        "        new_numbers.append(np.inf)\n",
        "\n",
        "print(new_numbers)"
      ]
    },
    {
      "cell_type": "code",
      "execution_count": null,
      "metadata": {
        "id": "y4_M2w4itJb6",
        "outputId": "b04b28a9-119c-4143-9944-15a01de3e771",
        "colab": {
          "base_uri": "https://localhost:8080/"
        }
      },
      "outputs": [
        {
          "output_type": "stream",
          "name": "stdout",
          "text": [
            "[2.0, 3.0, 6.0, inf]\n"
          ]
        }
      ],
      "source": [
        "# We have just intercepted every possible error during the for loop and said:\n",
        "# \"If you see any error, just jot down infinity as the result and carry on\".\n",
        "\n",
        "# Sometimes, this is not ideal. Only when you divide by zero is the result\n",
        "# going to be infinity. What if we have other errors? We can specify what kinds\n",
        "# of error we want to intercept and what kinds we let through:\n",
        "\n",
        "new_numbers = []\n",
        "for d in divisors:\n",
        "    try:\n",
        "        new_numbers.append(my_cool_number / d)\n",
        "    # We except the ZeroDivisionError specifically here\n",
        "    except ZeroDivisionError:\n",
        "        new_numbers.append(np.inf)\n",
        "    # We except multiple kinds of error like this, by putting them into a tuple\n",
        "    except (ValueError, TypeError):\n",
        "        pass\n",
        "    # Any kind of error we have not specifically caught is still raised,\n",
        "    # crashing your program.\n",
        "\n",
        "print(new_numbers)"
      ]
    },
    {
      "cell_type": "code",
      "execution_count": null,
      "metadata": {
        "id": "f9Chk4BXtJb6"
      },
      "outputs": [],
      "source": [
        "# Try to think of some task that you could wrap in a Try/Except block and\n",
        "# test it, to see if Try/Except works the way you believe it should!\n",
        "\n",
        "\n",
        "\n"
      ]
    },
    {
      "cell_type": "markdown",
      "metadata": {
        "id": "LZXafRZVtJb7"
      },
      "source": [
        "### Chapter 0.9: \"Classes and Inheritance\"\n",
        "\n",
        "Perhaps the most powerful object in Python is the *class*. Classes are extremely versatile and are used in pretty much every program out there, including PyTorch, which we will use for our actual machine learning exercises. Classes provide a means of bundling data and functionality together. Creating a new class creates a new type of object, allowing new instances of that type to be made. Each class instance can have attributes attached to it for maintaining its state. Class instances can also have methods (defined by its class) for modifying its state.\n",
        "\n",
        "To learn what classes can do, the best way is to make some!"
      ]
    },
    {
      "cell_type": "code",
      "execution_count": null,
      "metadata": {
        "id": "kKvayto7tJb7",
        "outputId": "ff68311e-ee8e-45aa-e5d5-3d97e4ffd160",
        "colab": {
          "base_uri": "https://localhost:8080/"
        }
      },
      "outputs": [
        {
          "output_type": "stream",
          "name": "stdout",
          "text": [
            "The value of the val attribute is 5\n"
          ]
        }
      ],
      "source": [
        "# A minimal class might look like this:\n",
        "class myClass:\n",
        "  def __init__(self, value: int) -> None:\n",
        "    self.val = value\n",
        "\n",
        "# We can now use our above class as follows\n",
        "class_object = myClass(5)\n",
        "\n",
        "# You can access public class attributes like so:\n",
        "print(f'The value of the val attribute is {class_object.val}')"
      ]
    },
    {
      "cell_type": "markdown",
      "metadata": {
        "id": "-Wk-svE1YwVn"
      },
      "source": [
        "Classes can not only have attributes but also so-called methods. Methods are class-specific functions that can be called similar to how attributes are accessed:"
      ]
    },
    {
      "cell_type": "code",
      "execution_count": null,
      "metadata": {
        "id": "I5ITdigotJb7",
        "outputId": "4759e8bf-4393-4d35-e94c-551f4aaa943b",
        "colab": {
          "base_uri": "https://localhost:8080/"
        }
      },
      "outputs": [
        {
          "output_type": "stream",
          "name": "stdout",
          "text": [
            "Hello there! My name is Bob.\n"
          ]
        }
      ],
      "source": [
        "class Human:\n",
        "  def __init__(self, name: str, age: int) -> None:\n",
        "    self.name = name\n",
        "    self.age = age\n",
        "\n",
        "  def greet(self) -> None:\n",
        "    print(f'Hello there! My name is {self.name}.')\n",
        "\n",
        "  def birthday(self) -> None:\n",
        "    self.age += 1\n",
        "    print(f'Happy birthday! You are now {self.age} years old.')\n",
        "\n",
        "human = Human('Bob', 23)\n",
        "human.greet()"
      ]
    },
    {
      "cell_type": "code",
      "execution_count": null,
      "metadata": {
        "id": "HENgS6PdYwVn",
        "outputId": "7aef5fbf-799d-4505-e574-220f4debe3f9",
        "colab": {
          "base_uri": "https://localhost:8080/"
        }
      },
      "outputs": [
        {
          "output_type": "stream",
          "name": "stdout",
          "text": [
            "Hello Anna! My name is Svenja.\n"
          ]
        }
      ],
      "source": [
        "# Exercise\n",
        "# The current greeting isn't very personal. How can you greet someone by name?\n",
        "class Human:\n",
        "    def __init__(self, name: str, age: int) -> None:\n",
        "        self.name = name\n",
        "        self.age = age\n",
        "\n",
        "    def greet_other(self, other_person):\n",
        "        print(f'Hello {other_person}! My name is {self.name}.')\n",
        "\n",
        "    def birthday(self) -> None:\n",
        "        self.age += 1\n",
        "        print(f'Happy birthday! You are now {self.age} years old.')\n",
        "\n",
        "human = Human('Svenja', 23)\n",
        "human.greet_other('Anna')\n",
        "\n"
      ]
    },
    {
      "cell_type": "markdown",
      "metadata": {
        "id": "F_tBczq9YwVn"
      },
      "source": [
        "Classes are an important tool in any programmer's arsenal, as they can make complex relations easier to understand. If you were to implement a new class, you can even reuse other classes through the power of **inheritance**."
      ]
    },
    {
      "cell_type": "code",
      "execution_count": null,
      "metadata": {
        "id": "AzajxAK_YwVn",
        "outputId": "7c7edb0c-17fe-4d69-b6a3-6c369312b065",
        "colab": {
          "base_uri": "https://localhost:8080/"
        }
      },
      "outputs": [
        {
          "output_type": "stream",
          "name": "stdout",
          "text": [
            "Lena\n",
            "Happy birthday! You are now 26 years old.\n"
          ]
        }
      ],
      "source": [
        "class Student(Human):\n",
        "  # Here, we tell Python that every Student is a Human and can do all the things a Human can\n",
        "  def __init__(self, name: str, age: int, university: str, course: str, matriculation_number: int) -> None:\n",
        "    super().__init__(name=name, age=age)\n",
        "    self.university = university\n",
        "    self.course = course\n",
        "    self.matriculation_number = matriculation_number\n",
        "\n",
        "  # You can also override functions of the superclass if need be\n",
        "  def greet(self) -> None:\n",
        "    print(f'Hello there! My name is {self.name}. I am a student at {self.university}.')\n",
        "\n",
        "lena = Student(name = 'Lena', age = 25, university = 'UDE', course = 'Medicine', matriculation_number = 123456789)\n",
        "# Since the student class inherited from Human, you can still access these attributes just like before:\n",
        "print(lena.name)\n",
        "lena.birthday()"
      ]
    },
    {
      "cell_type": "code",
      "execution_count": null,
      "metadata": {
        "id": "YdhyKUgnYwVn"
      },
      "outputs": [],
      "source": [
        "# Exercise\n",
        "# Add a method of your choice to the Human class and use it with the lena variable\n",
        "# Remember to re-run code cells that you make changes to\n",
        "\n",
        "\n"
      ]
    },
    {
      "cell_type": "markdown",
      "metadata": {
        "id": "ldrueD_qYwVn"
      },
      "source": [
        "#### Private attributes and methods, getters and setters\n",
        "\n",
        "Sometimes you want to signal to other programmers that some attributes or methods are only supposed to be accessed from within the class itself. These attributes and methods are prefixed with an underscore to mark them as private. Altough python will still let you access these variables, it should come as reminder that what you are doing was not originally intended."
      ]
    },
    {
      "cell_type": "code",
      "execution_count": null,
      "metadata": {
        "id": "RhtDCl1iYwVo",
        "outputId": "6f065af2-584b-4df1-b4d8-578b45afd852",
        "colab": {
          "base_uri": "https://localhost:8080/"
        }
      },
      "outputs": [
        {
          "output_type": "stream",
          "name": "stdout",
          "text": [
            "Lemons are just inferior limes\n"
          ]
        }
      ],
      "source": [
        "class BankAccount:\n",
        "  def __init__(self, owner: str, balance: float, currency: str = '€') -> None:\n",
        "    self._balance = balance\n",
        "    self.owner = owner\n",
        "    self.currency = currency\n",
        "\n",
        "  def deposit(self, amount: float) -> None:\n",
        "    self._balance += amount\n",
        "\n",
        "  def transfer(self, amount: float) -> None:\n",
        "    self._balance -= amount\n",
        "\n",
        "  def _super_secret_info(self) -> None:\n",
        "    print('Lemons are just inferior limes')\n",
        "\n",
        "account = BankAccount('Bill', 1000)\n",
        "account._super_secret_info()"
      ]
    },
    {
      "cell_type": "code",
      "execution_count": null,
      "metadata": {
        "id": "KAzTAGjFYwVo",
        "outputId": "b832fca0-f889-45e4-9031-5386b797e64f",
        "colab": {
          "base_uri": "https://localhost:8080/"
        }
      },
      "outputs": [
        {
          "output_type": "stream",
          "name": "stdout",
          "text": [
            "Enough\n"
          ]
        }
      ],
      "source": [
        "# Sometimes it is necessary to be even more restrictive. In theory, nothing keeps you from doing this:\n",
        "account._balance = 'Enough'\n",
        "print(account._balance)"
      ]
    },
    {
      "cell_type": "code",
      "execution_count": null,
      "metadata": {
        "id": "wMPnq9lMYwVo"
      },
      "outputs": [],
      "source": [
        "# Obviously, this isn't great, so how can we safeguard this better?\n",
        "class BankAccount:\n",
        "  def __init__(self, owner: str, balance: float, currency: str = '€') -> None:\n",
        "    self._balance = balance\n",
        "    self.owner = owner\n",
        "\n",
        "  @property\n",
        "  def balance(self) -> float:\n",
        "    return self._balance\n",
        "\n",
        "  @balance.setter\n",
        "  def balance(self, value: float) -> None:\n",
        "    assert isinstance(value, (int, float)), 'Balance must be a number!'\n",
        "    if value < 0:\n",
        "      raise ValueError('Balance cannot be negative!')\n",
        "    self._balance = value\n",
        "\n",
        "  def deposit(self, amount: float) -> None:\n",
        "    self._balance += amount\n",
        "\n",
        "  def withdraw(self, amount: float) -> None:\n",
        "    self._balance -= amount\n",
        "\n",
        "  def _super_secret_info(self) -> None:\n",
        "    print('Lemons are just inferior limes')"
      ]
    },
    {
      "cell_type": "markdown",
      "metadata": {
        "id": "xn8XmIewtJb7"
      },
      "source": [
        "You have probably already noticed a few weird things about the classes\n",
        "which we have been looking at until now, and it's time to talk about them.\n",
        "\n",
        "What does 'self' mean? Why is it everywhere in the class, but seemingly\n",
        "unnecessary when we call a method?\n",
        "\n",
        "When we make a class, any function inside of it that we do not specifically\n",
        "mark to be treated otherwise is a so-called *bound method*. When we have\n",
        "created a class instance, that instance is passed as the first parameter\n",
        "of any bound method. An example may help to understand what this means:"
      ]
    },
    {
      "cell_type": "code",
      "execution_count": null,
      "metadata": {
        "id": "qmiUs2BqtJb8",
        "outputId": "8dabc582-31c9-4674-98b9-84ea1e13ed1b",
        "colab": {
          "base_uri": "https://localhost:8080/"
        }
      },
      "outputs": [
        {
          "output_type": "stream",
          "name": "stdout",
          "text": [
            "Hello there! My name is Lena. I am a student at UDE.\n",
            "Hello there! My name is Lena. I am a student at UDE.\n"
          ]
        }
      ],
      "source": [
        "# This\n",
        "lena.greet()\n",
        "# is equivalent to this\n",
        "Student.greet(lena)\n",
        "\n",
        "# Because of this, we are allowed to do these things in functions inside of a class:\n",
        "def greet(self) -> None:\n",
        "    print(f'Hello there! My name is {self.name}. I am a student at {self.university}.')\n",
        "\n",
        "# To put it into simpler words: Methods of a class instance are aware of who they are.\n",
        "# The Student instance lena knows its own name, age, which methods it can use.\n",
        "# The methods themselves, unless explicitly told otherwise, also know lena's name, age, etc."
      ]
    },
    {
      "cell_type": "markdown",
      "metadata": {
        "id": "8RzTL-2-tJb8"
      },
      "source": [
        "2. Why does the '\\_\\_init\\_\\_' function look so weird? What does it do and why does it have underscores in its name?\n",
        "\n",
        "Some function names, like '\\_\\_init\\_\\_', are what we call 'privileged'. If you name a function in a class this way, Python will do special things with it. Here are a few examples:\n",
        "\n",
        "- If a class contains an '\\_\\_init\\_\\_' function, the function is called when an instance of the class is initiated.\n",
        "- If a class contains a '\\_\\_len\\_\\_' function, you can use the built-in len() function on an instance of your class, and it will execute its '\\_\\_len\\_\\_' function.\n",
        "- If a class contains a '\\_\\_del\\_\\_' function, that function is called when an instance of the class is deleted.\n",
        "\n",
        "Be careful about using privileged names when writing functions, particularly if they are available everywhere and not just inside of a class."
      ]
    },
    {
      "cell_type": "code",
      "execution_count": null,
      "metadata": {
        "id": "L4F7vUMKtJb8",
        "outputId": "b09795d8-e258-41df-bc19-fbbab02d026e",
        "colab": {
          "base_uri": "https://localhost:8080/"
        }
      },
      "outputs": [
        {
          "output_type": "stream",
          "name": "stdout",
          "text": [
            "[1, 2, 3, 4]\n",
            "4\n"
          ]
        }
      ],
      "source": [
        "class Dataset:\n",
        "\n",
        "    def __init__(self):\n",
        "        self.data = [1, 2, 3, 4]\n",
        "\n",
        "    def __len__(self):\n",
        "        # You could write anything here - you could even, as a joke, always return 3,\n",
        "        # no matter what self.data actually is.\n",
        "        return len(self.data)\n",
        "\n",
        "# The '__init__' function is called here, although you don't see it.\n",
        "# But self.data already exists:\n",
        "my_dataset = Dataset()\n",
        "print(my_dataset.data)\n",
        "\n",
        "# The '__len__' function is called here.\n",
        "print(len(my_dataset))"
      ]
    },
    {
      "cell_type": "code",
      "execution_count": null,
      "metadata": {
        "id": "FXgYPLyOtJb9"
      },
      "outputs": [],
      "source": [
        "# Finally, note that the name of our classes were written with a capital letter at the start.\n",
        "# This is not mandatory, but its a sort of recommendation, which can help keep your code clean."
      ]
    },
    {
      "cell_type": "markdown",
      "metadata": {
        "id": "Kr5-5mGGYwVp"
      },
      "source": [
        "#### Practice time!\n",
        "\n",
        "Here are some tasks for you to try and solve. If you can't remember how something works, that is perfectly fine! Just go back a chapter or two, and look it up again. Note that none of the following tasks are graded, except for the submission to GitHub. However, we have prepared some sample solutions for you.\n",
        "\n",
        "**Task 1**: Write a class circle that has two methods `calculate_circumference()` and `calculate_area()`. What arguments make sense to include in the `__init__()` method?"
      ]
    },
    {
      "cell_type": "code",
      "execution_count": null,
      "metadata": {
        "id": "SbOAKlL7YwVp",
        "outputId": "8c72c20c-51aa-4473-96aa-67a2eddfce61",
        "colab": {
          "base_uri": "https://localhost:8080/"
        }
      },
      "outputs": [
        {
          "output_type": "stream",
          "name": "stdout",
          "text": [
            "18.84955592153876\n",
            "28.274333882308138\n"
          ]
        }
      ],
      "source": [
        "class Circle:\n",
        "\n",
        "  def __init__(self, radius):\n",
        "    self.radius = radius\n",
        "\n",
        "  def calculate_circumference(self):\n",
        "    return 2 * np.pi * self.radius\n",
        "\n",
        "  def calculate_area(self):\n",
        "    return np.pi * self.radius **2\n",
        "\n",
        "circle = Circle(3)\n",
        "print(circle.calculate_circumference())\n",
        "print(circle.calculate_area())"
      ]
    },
    {
      "cell_type": "markdown",
      "metadata": {
        "id": "CJT0VM_zYwVp"
      },
      "source": [
        "**Task 2**: Write a function count_vowels(text) that returns the number of vowels (a, e, i, o, u) in a given string."
      ]
    },
    {
      "cell_type": "code",
      "execution_count": 6,
      "metadata": {
        "id": "klWOsUQ3YwVp",
        "colab": {
          "base_uri": "https://localhost:8080/"
        },
        "outputId": "c4e78e6e-2298-4927-d25d-0e13a76b487e"
      },
      "outputs": [
        {
          "output_type": "stream",
          "name": "stdout",
          "text": [
            "There are 11 vowels in the string\n",
            "None\n"
          ]
        }
      ],
      "source": [
        "def count_vowels(string: str) -> int:\n",
        "  n = 0\n",
        "  for vowel in string:\n",
        "    if vowel in ['a', 'e', 'i', 'o', 'u','A', 'E', 'I', 'O', 'U' ]:\n",
        "      n += 1\n",
        "  print(f'There are {n} vowels in the string')\n",
        "\n",
        "example = \"Everything, in this cell shoud be working\"\n",
        "print(count_vowels(example))"
      ]
    },
    {
      "cell_type": "markdown",
      "metadata": {
        "id": "cTEXkkhdYwVp"
      },
      "source": [
        "**Task 3**: Write a function that checks if a word is a palindrome (palindromes are words that are the same if read backwards)."
      ]
    },
    {
      "cell_type": "code",
      "execution_count": 14,
      "metadata": {
        "id": "-KCSLqWTYwVq",
        "colab": {
          "base_uri": "https://localhost:8080/"
        },
        "outputId": "9bd997fb-580d-4a22-c563-004a9d525667"
      },
      "outputs": [
        {
          "output_type": "stream",
          "name": "stdout",
          "text": [
            "anna is a palindrome\n",
            "svenja is not a palindrome\n",
            "ein esel lese nie is a palindrome\n"
          ]
        }
      ],
      "source": [
        "def is_palindrome(word):\n",
        "  word = word.lower()\n",
        "  if word == word[::-1]:\n",
        "    print(f'{word} is a palindrome')\n",
        "  else:\n",
        "    print(f'{word} is not a palindrome')\n",
        "\n",
        "is_palindrome('Anna')\n",
        "is_palindrome('Svenja')\n",
        "is_palindrome('Ein Esel lese nie')"
      ]
    },
    {
      "cell_type": "markdown",
      "metadata": {
        "id": "c-QxwPX0YwVq"
      },
      "source": [
        "**Task 4**: Employee and Manager\n",
        "\n",
        "Create a class Employee with attributes name and salary. Create a subclass Manager that adds an attribute department. Override a method display_info() to include department information."
      ]
    },
    {
      "cell_type": "code",
      "execution_count": 21,
      "metadata": {
        "id": "friyHf-EYwVq",
        "colab": {
          "base_uri": "https://localhost:8080/",
          "height": 139
        },
        "outputId": "0be4a1bd-2091-4e48-f372-56790e59767e"
      },
      "outputs": [
        {
          "output_type": "stream",
          "name": "stdout",
          "text": [
            "Name: Svenja\n",
            "Salary: $2.00\n"
          ]
        },
        {
          "output_type": "execute_result",
          "data": {
            "text/plain": [
              "<bound method Manager.display_info of <__main__.Manager object at 0x7ff3a917db50>>"
            ],
            "text/html": [
              "<div style=\"max-width:800px; border: 1px solid var(--colab-border-color);\"><style>\n",
              "      pre.function-repr-contents {\n",
              "        overflow-x: auto;\n",
              "        padding: 8px 12px;\n",
              "        max-height: 500px;\n",
              "      }\n",
              "\n",
              "      pre.function-repr-contents.function-repr-contents-collapsed {\n",
              "        cursor: pointer;\n",
              "        max-height: 100px;\n",
              "      }\n",
              "    </style>\n",
              "    <pre style=\"white-space: initial; background:\n",
              "         var(--colab-secondary-surface-color); padding: 8px 12px;\n",
              "         border-bottom: 1px solid var(--colab-border-color);\"><b>Manager.display_info</b><br/>def display_info()</pre><pre class=\"function-repr-contents function-repr-contents-collapsed\" style=\"\"><a class=\"filepath\" style=\"display:none\" href=\"#\">/tmp/ipython-input-1874132814.py</a>&lt;no docstring&gt;</pre></div>"
            ]
          },
          "metadata": {},
          "execution_count": 21
        }
      ],
      "source": [
        "class Employee:\n",
        "    def __init__(self, name: str, salary: float) -> None:\n",
        "      self.name = name\n",
        "      self.salary = salary\n",
        "\n",
        "    def display_info(self):\n",
        "      print(f\"Name: {self.name}\")\n",
        "      print(f\"Salary: ${self.salary:.2f}\")\n",
        "\n",
        "class Manager(Employee):\n",
        "    def __init__(self, name: str, salary: float, department: str) -> None:\n",
        "       super().__init__(name, salary)\n",
        "       self.department = department\n",
        "\n",
        "    def display_info(self):\n",
        "        super().display_info()\n",
        "        print(f\"Department: {self.department}\")\n",
        "\n",
        "employee = Employee('Svenja', 2)\n",
        "manager = Manager('Leoni', 20000, 'sales')\n",
        "\n",
        "employee.display_info()\n",
        "manager.display_info"
      ]
    },
    {
      "cell_type": "markdown",
      "metadata": {
        "id": "Ln7KADNeYwVq"
      },
      "source": [
        "**Task 5**: Password validator\n",
        "\n",
        "Write a function `validate_password(password)` that checks if a password meets the following criteria:\n",
        "\n",
        "\t- At least 8 characters long\n",
        "\t- Contains at least one uppercase letter, one lowercase letter, and one number\n",
        "\t- Returns True if valid, otherwise False"
      ]
    },
    {
      "cell_type": "code",
      "execution_count": 23,
      "metadata": {
        "id": "p-t-ay8DYwVq",
        "colab": {
          "base_uri": "https://localhost:8080/"
        },
        "outputId": "69320c6f-fe43-468d-c2e0-a08a35c9c107"
      },
      "outputs": [
        {
          "output_type": "stream",
          "name": "stdout",
          "text": [
            "True\n",
            "False\n"
          ]
        }
      ],
      "source": [
        "def validate_password(password: str) -> bool:\n",
        "    if len(password) <8:\n",
        "      return False\n",
        "\n",
        "    if not any(char.isupper() for char in password):\n",
        "        return False\n",
        "\n",
        "    if not any(char.islower() for char in password):\n",
        "        return False\n",
        "\n",
        "    if not any(char.isdigit() for char in password):\n",
        "        return False\n",
        "\n",
        "    return True\n",
        "\n",
        "password_1 = 'Hallo_1234'\n",
        "print(validate_password(password_1))\n",
        "password_2 = '123'\n",
        "print(validate_password(password_2))"
      ]
    },
    {
      "cell_type": "markdown",
      "metadata": {
        "id": "zyy9plrAtJb9"
      },
      "source": [
        "### Chapter 0.10: \"Debugging\"\n",
        "\n",
        "The following code snippets will each contain a mistake. Try executing them, and figure out where the mistake is coming from and how you can fix it.\n",
        "\n",
        "At the end of the chapter, you can find a solution with an explanation of what was wrong."
      ]
    },
    {
      "cell_type": "markdown",
      "metadata": {
        "id": "yNDJ9qqJYwVq"
      },
      "source": [
        "**Task 6**"
      ]
    },
    {
      "cell_type": "code",
      "execution_count": null,
      "metadata": {
        "id": "RZPNdLjrtJb9"
      },
      "outputs": [],
      "source": [
        "# We want to look at the last entry in this list\n",
        "my_list = [1, 4, 9, 16]\n",
        "\n",
        "# However, this fails:\n",
        "print(my_list[4])\n",
        "# Why, and how do I fix it?"
      ]
    },
    {
      "cell_type": "markdown",
      "metadata": {
        "id": "RjX9V0-CYwVr"
      },
      "source": [
        "**Task 7**"
      ]
    },
    {
      "cell_type": "code",
      "execution_count": null,
      "metadata": {
        "id": "uebaA2IZtJb9"
      },
      "outputs": [],
      "source": [
        "# This is a basic cat class\n",
        "class Cat:\n",
        "\n",
        "    def __init__(self, name: str, color: str = \"Black\"):\n",
        "        self.name = name\n",
        "        self.color = color\n",
        "\n",
        "    def meow(self, loud: bool):\n",
        "        if loud is True:\n",
        "            print(\"MEOW!\")\n",
        "        else:\n",
        "            print(\"Meow!\")\n",
        "\n",
        "# This is a cat instance\n",
        "my_cat = Cat(name = \"Findus\", color = \"Tabby\")"
      ]
    },
    {
      "cell_type": "code",
      "execution_count": null,
      "metadata": {
        "id": "UeNWST1PtJb9"
      },
      "outputs": [],
      "source": [
        "# Why doesn't my cat meow when I do this?\n",
        "my_cat.meow"
      ]
    },
    {
      "cell_type": "code",
      "execution_count": null,
      "metadata": {
        "id": "AukSNagktJb-"
      },
      "outputs": [],
      "source": [
        "# Why do I see a \"None\" when I try to print the output of the meow method?\n",
        "the_sound_of_a_cat = my_cat.meow(loud = True)\n",
        "print(the_sound_of_a_cat)"
      ]
    },
    {
      "cell_type": "markdown",
      "metadata": {
        "id": "eenVh_26YwVr"
      },
      "source": [
        "**Task 8**"
      ]
    },
    {
      "cell_type": "code",
      "execution_count": null,
      "metadata": {
        "id": "Eku1PbP7tJb-"
      },
      "outputs": [],
      "source": [
        "# This functtion should calculate the factorial\n",
        "def factorial(n):\n",
        "    result = 1\n",
        "    for i in range(1, n):\n",
        "          result = result * i\n",
        "    return result\n",
        "\n",
        "# If we look at the result, however, we notice it is 24 instead of 120.\n",
        "print(factorial(5))\n",
        "# Why? Fix the function and try running it again."
      ]
    },
    {
      "cell_type": "markdown",
      "metadata": {
        "id": "uDltFjAnYwVr"
      },
      "source": [
        "**Task 9**"
      ]
    },
    {
      "cell_type": "code",
      "execution_count": null,
      "metadata": {
        "id": "w_0hDlMmtJb-"
      },
      "outputs": [],
      "source": [
        "class Car:\n",
        "\n",
        "    def __init__(self, color: str, model: str, honk_sound: str = \"HONK!\"):\n",
        "        self.color = color\n",
        "        self.model = model\n",
        "        self.honk_sound = honk_sound\n",
        "\n",
        "    def honk():\n",
        "        print(self.honk_sound)\n",
        "\n",
        "# This car should honk. But it doesn't. Instead it throws a TypeError. Why?\n",
        "my_car = Car(color = \"Black\", model = \"Mercedes\")\n",
        "my_car.honk()"
      ]
    },
    {
      "cell_type": "markdown",
      "metadata": {
        "id": "xFsfow-HYwVs"
      },
      "source": [
        "**Task 10**"
      ]
    },
    {
      "cell_type": "code",
      "execution_count": null,
      "metadata": {
        "id": "00kwPOtytJb-"
      },
      "outputs": [],
      "source": [
        "a = 10\n",
        "def subtract_five(b):\n",
        "    b = b - 5\n",
        "subtract_five(b = a)\n",
        "print(a)\n",
        "\n",
        "# You'd think that if a is 10, and I give a to the function subtract_five,\n",
        "# and then the function makes it 5, that a should be 5. Why is it 10?\n",
        "# And how do I make it so the function actually makes a = 5?\n"
      ]
    },
    {
      "cell_type": "markdown",
      "metadata": {
        "id": "jPspXH0uYwVs"
      },
      "source": [
        "**Task 11**"
      ]
    },
    {
      "cell_type": "code",
      "execution_count": null,
      "metadata": {
        "id": "gDB2Z2ENtJb-"
      },
      "outputs": [],
      "source": [
        "from time import sleep\n",
        "\n",
        "# Let's say we have some numbers. We want to add the sum of each\n",
        "# pair of neighbors to the list of numbers, as well.\n",
        "\n",
        "numbers = [0, 1, 2, 3, 4, 5, 6, 7, 8, 9]\n",
        "for i, number in enumerate(numbers):\n",
        "    sleep(0.5)\n",
        "    print(numbers[i], numbers[i+1])\n",
        "    a = numbers[i]\n",
        "    b = numbers[i+1]\n",
        "    c = a+b\n",
        "    numbers.append(c)\n",
        "\n",
        "# Watch in slow motion what happens. Why does it keep going?\n",
        "# Will it ever stop? How do you fix this?"
      ]
    },
    {
      "cell_type": "markdown",
      "metadata": {
        "id": "eZm9DplctJb-"
      },
      "source": [
        "### Debug Task Solutions"
      ]
    },
    {
      "cell_type": "markdown",
      "metadata": {
        "id": "jDm3t7qmYwVs"
      },
      "source": [
        "#### Task 1"
      ]
    },
    {
      "cell_type": "code",
      "execution_count": null,
      "metadata": {
        "id": "Nk5ZzK6gYwVs"
      },
      "outputs": [],
      "source": [
        "import math\n",
        "\n",
        "class Circle:\n",
        "\n",
        "    def __init__(self, radius: float):\n",
        "\n",
        "        self.r = radius\n",
        "\n",
        "    def calculate_circumference(self):\n",
        "\n",
        "        c = 2 * math.pi * self.r\n",
        "        return c\n",
        "\n",
        "    def calculate_area(self):\n",
        "\n",
        "        a = 0.5 * math.pi * self.r**2\n",
        "        return a\n",
        "\n",
        "circle = Circle(radius = 1)\n",
        "print(circle.calculate_circumference())\n",
        "print(circle.calculate_area())"
      ]
    },
    {
      "cell_type": "markdown",
      "metadata": {
        "id": "5U06p5vZYwVs"
      },
      "source": [
        "#### Task 2"
      ]
    },
    {
      "cell_type": "code",
      "execution_count": null,
      "metadata": {
        "id": "UHYZeFOQYwVt"
      },
      "outputs": [],
      "source": [
        "def count_vowels(string: str) -> int:\n",
        "\n",
        "    num_vowels = 0\n",
        "\n",
        "    # In Python, Strings are iterable, meaning I can iterate over them, character by character.\n",
        "    for character in string:\n",
        "        # If the current character is a vowel, count it.\n",
        "        if character in [\"a\", \"e\", \"i\", \"o\", \"u\"]:\n",
        "            num_vowels += 1\n",
        "\n",
        "    return num_vowels\n",
        "\n",
        "print(count_vowels(\"hello\"))"
      ]
    },
    {
      "cell_type": "markdown",
      "metadata": {
        "id": "hg_D6myYYwVt"
      },
      "source": [
        "#### Task 3"
      ]
    },
    {
      "cell_type": "code",
      "execution_count": null,
      "metadata": {
        "id": "JE7l8kQ-YwVt"
      },
      "outputs": [],
      "source": [
        "def is_palindrome(word: str):\n",
        "\n",
        "    reversed_word = word[::-1]\n",
        "    if word == reversed_word:\n",
        "        return True\n",
        "    else:\n",
        "        return False\n",
        "\n",
        "print(is_palindrome(\"anna\"))\n",
        "print(is_palindrome(\"dennis\"))"
      ]
    },
    {
      "cell_type": "markdown",
      "metadata": {
        "id": "0OK-58k4YwVu"
      },
      "source": [
        "In case the `[::-1]` confuses you, here is a quick explanation. Most things in Python that are similar to a list or an array can use slice notation, which goes like this [start:stop:step] - Start at position start, go to position stop, with step size step. [0:3:-2] for example would give you entry 0, skip entry 1, give you entry 2, and get to entry 3 and realize it should stop. A string is very similar to a list - every element of that \"list\" is one of the characters. Thus, we can use slices here, too. Now, why are there no start and stop numbers in our slice, and a negative step size? If we don't provide a start number, it defaults to 0. If we don't provide a stop number, it goes over the entire sequence. And a step size of -1 simply means instead of starting at 0, and going higher, we start at the last element, and go lower."
      ]
    },
    {
      "cell_type": "markdown",
      "metadata": {
        "id": "PukwxHUMYwVu"
      },
      "source": [
        "#### Task 4"
      ]
    },
    {
      "cell_type": "code",
      "execution_count": null,
      "metadata": {
        "id": "63Cy9rMJYwVu"
      },
      "outputs": [],
      "source": [
        "class Employee:\n",
        "\n",
        "    def __init__(self, name: str, salary: int):\n",
        "\n",
        "        self.name = name\n",
        "        self.salary = salary\n",
        "\n",
        "    def display_info(self) -> str:\n",
        "\n",
        "        print(\"Name: \", self.name)\n",
        "        print(\"Salary: \", self.salary)\n",
        "\n",
        "class Manager(Employee):\n",
        "\n",
        "    def make_boss_of_department(self, department: str):\n",
        "\n",
        "        self.department = department\n",
        "\n",
        "    def display_info(self) -> str:\n",
        "\n",
        "        print(\"Name: \", self.name)\n",
        "        print(\"Salary: \", self.salary)\n",
        "        print(f\"I am the boss of the {self.department} department.\")\n",
        "\n",
        "the_boss = Manager(name = \"George\", salary = 1000000)\n",
        "the_boss.make_boss_of_department(\"Research and Development\")\n",
        "the_boss.display_info()"
      ]
    },
    {
      "cell_type": "markdown",
      "metadata": {
        "id": "aRjaiozcYwVu"
      },
      "source": [
        "#### Task 5"
      ]
    },
    {
      "cell_type": "code",
      "execution_count": null,
      "metadata": {
        "id": "KdfKKbf3YwVu"
      },
      "outputs": [],
      "source": [
        "def validate_password(password: str):\n",
        "\n",
        "    # Check the length\n",
        "    if len(password) >= 8:\n",
        "        long_enough = True\n",
        "    else:\n",
        "        long_enough = False\n",
        "\n",
        "    # We could also shorten this to one line\n",
        "    long_enough = (len(password) >= 8)\n",
        "\n",
        "    # If my password, converted to all lowercase, is different from, it had at least 1 uppercase character\n",
        "    has_uppercase = (password != password.lower())\n",
        "    # If my password, converted to all uppercase, is different from, it had at least 1 lowercase character\n",
        "    has_lowercase = (password != password.upper())\n",
        "    # To check for numbers, we could use the any() function, which returns if the condition is true for ANY element of an iterable\n",
        "    has_number = any([character.isdigit() for character in password])\n",
        "\n",
        "    # Everything must be true\n",
        "    if long_enough and has_uppercase and has_lowercase and has_number:\n",
        "        return True\n",
        "    else:\n",
        "        return False\n",
        "\n",
        "print(validate_password(\"hello\"))\n",
        "print(validate_password(\"hello4\"))\n",
        "print(validate_password(\"Hello\"))\n",
        "print(validate_password(\"Hello4\"))\n",
        "print(validate_password(\"BigGeniusPassword12\"))"
      ]
    },
    {
      "cell_type": "markdown",
      "metadata": {
        "id": "xdF6J-l_tJb-"
      },
      "source": [
        "#### Task 6\n",
        "\n",
        "This code snippet throws an IndexError because you are trying to access an index that doesn't exist. In Python, the indices of iterable objects (for example the list [1, 4, 9, 16]) are counted starting from 0. This means that the indices 0, 1, 2, and 3 are valid.\n",
        "\n",
        "An even better solution than calling print(my_list[3]) would be to call print(my_list[-1]). Python considers -1 the last index of an iterable, -2 the second-to-last, and so on."
      ]
    },
    {
      "cell_type": "markdown",
      "metadata": {
        "id": "0LmDnskatJb-"
      },
      "source": [
        "#### Task 7\n",
        "\n",
        "`my_cat.meow` is a method of `my_cat`. If you want to call a method, just like other functions, you must use parentheses:\n",
        "`my_cat.meow(loud = True)`.\n",
        "\n",
        "Just like regular functions, class methods can return something. In fact, they always return something! If you do not tell your function to return anything, it will assume you want to return nothing. Writing\n",
        "```\n",
        "def do_nothing():\n",
        "   sleep(1)\n",
        "   return None\n",
        "```\n",
        "is equivalent to writing\n",
        "```\n",
        "def do_nothing():\n",
        "   sleep(1)\n",
        "```\n",
        "\n",
        "If you wrote\n",
        "```\n",
        "x = do_nothing()\n",
        "print(x)\n",
        "```\n",
        "you would always see \"None\" get printed. This is what happens in Task 2 as well."
      ]
    },
    {
      "cell_type": "markdown",
      "metadata": {
        "id": "f_B5oc9btJb-"
      },
      "source": [
        "#### Task 8\n",
        "\n",
        "The factorial function is \"forgetting\" to multiply by 5 in this example. In fact, it would always \"forget\" to multiply by the last number it should multiply by. This is because range(a, b) covers the values from a to b, but not b itself. The correct expression for the task would be `range(1, n+1)`."
      ]
    },
    {
      "cell_type": "markdown",
      "metadata": {
        "id": "h1bL4USytJb-"
      },
      "source": [
        "#### Task 9\n",
        "\n",
        "```\n",
        "def honk():\n",
        "    print(self.honk_sound)\n",
        "```\n",
        "should instead be\n",
        "```\n",
        "def honk(self):\n",
        "    print(self.honk_sound)\n",
        "```\n",
        "\n",
        "What happens is that the function we defined wants no inputs. But since its a bound method of the Car class, when we call it, the function is implicitly given self as the input. The error message hints that this is the case. Our function *wanted* 0 arguments, but will always be given 1 inside of the class."
      ]
    },
    {
      "cell_type": "markdown",
      "metadata": {
        "id": "LKT9Zx3DtJb-"
      },
      "source": [
        "#### Task 10\n",
        "\n",
        "This concept is called Scope.\n",
        "\n",
        "The variable b only exists inside of this function. We say \"b exists only in the local scope\". Meanwhile, \"a exists in the global scope\". Hence, inside the function we only know about b, but not about a, while outside the function, we know about a, but not about b. If we tried to print b right after pringting a, Python would tell us that we're trying to print something that doesn't exist.\n",
        "\n",
        "Note that its absolutely possible for a variable to be made available in a different scope. For example, you can bring b from the function's local scope to the global scope, simply by returning b at the end:\n",
        "```\n",
        "a = 10\n",
        "def subtract_five(b):\n",
        "    b = b - 5\n",
        "    return b\n",
        "c = subtract_five(b = a)\n",
        "print(a)\n",
        "print(c)\n",
        "```\n",
        "You will find that both a and c are printable, because this time, we have brought the b from the function and then said \"call this 'new thing' c.\" If we instead said ```a = subtract_five(b = a)```, we would set a to 5."
      ]
    },
    {
      "cell_type": "markdown",
      "metadata": {
        "id": "J0Ijz4yQtJb-"
      },
      "source": [
        "#### Task 11\n",
        "\n",
        "We have just created an infinite iterator. We append to the end of the list while we are reading from it. During every step, we add one new number and use one old number for the last time, and this will go on forever. Whenever your code seems to not do anything but takes forever, or prints things into the console at incredible speed, without looking like it will stop, something like this might have happened.\n",
        "\n",
        "How can we stop this?\n",
        "- Make sure you don't change the iterable you are currently using (such as our original list of numbers), unless that is explicitly what you want.\n",
        "- Use Dictionaries. Dictionaries simply don't allow you to change them while you are iterating over them, so this will never happen."
      ]
    },
    {
      "cell_type": "markdown",
      "metadata": {
        "id": "jy_1D3qBYwVv"
      },
      "source": [
        "### Chapter 0.11: \"Git(Hub)\"\n",
        "\n",
        "Git is a so-called Version Control System. It is used to manage programming projects, both for multiple people and when you work alone.\n",
        "\n",
        "The typical workflow in Git looks like this:\n",
        "- *Clone* a project, or *pull* the most up-to-date state of the project onto your machine\n",
        "- Write some new code, or make some new files\n",
        "- *Add* your code/files to a *commit*\n",
        "- *Push* that *commit* to GitHub\n",
        "\n",
        "Git is different from simply saving code/files. Instead of overwriting files, Git only tracks *changes* made to a file. That way, if you need to go back because you made a mistake, you can simply *revert* changes. It is also useful for when you accidentally delete files, as anything pushed to GitHub now also lives on the GitHub servers, meaning you can always get it back."
      ]
    },
    {
      "cell_type": "markdown",
      "metadata": {
        "id": "urtFBlxqYwVw"
      },
      "source": [
        "In this course, we manage the handing out and submission of exercises via GitHub. This way, we can be sure about the date and time you handed in your solutions, have them all gathered in a central location, and you can save your progress so that you do not lose it.\n",
        "\n",
        "Thanks to Google Colab's Git integration, we don't even have to learn the entire tool. To submit your solutions, simply navigate to **File** > **Save** > Select your git repository/branch. We recommend to push to GitHub often. It's a good habit, and eventually could mean the difference between accidentally deleting a week's worth of hard work and being able to spend your weekend on your favorite hobby. You can commit anything you like - we will only look at the version you show us, so don't be afraid to push code that doesn't work to GitHub."
      ]
    },
    {
      "cell_type": "markdown",
      "metadata": {
        "id": "VCueAiVTtJb-"
      },
      "source": [
        "**Task 12** (1 point): Push the notebook with your solutions to your GitHub. Please take care to push the code to your *own* GitHub, not to the aima_seminar GitHub. If you do, everyone can see your code, which we don't want :)"
      ]
    },
    {
      "cell_type": "markdown",
      "metadata": {
        "id": "TcnnJHYOYwVw"
      },
      "source": []
    }
  ],
  "metadata": {
    "colab": {
      "provenance": [],
      "include_colab_link": true
    },
    "kernelspec": {
      "display_name": "base",
      "language": "python",
      "name": "python3"
    },
    "language_info": {
      "codemirror_mode": {
        "name": "ipython",
        "version": 3
      },
      "file_extension": ".py",
      "mimetype": "text/x-python",
      "name": "python",
      "nbconvert_exporter": "python",
      "pygments_lexer": "ipython3",
      "version": "3.12.7"
    },
    "orig_nbformat": 4,
    "widgets": {
      "application/vnd.jupyter.widget-state+json": {
        "c7c3a9d0b7dd41eba3aa028605ce2374": {
          "model_module": "@jupyter-widgets/controls",
          "model_name": "HBoxModel",
          "model_module_version": "1.5.0",
          "state": {
            "_dom_classes": [],
            "_model_module": "@jupyter-widgets/controls",
            "_model_module_version": "1.5.0",
            "_model_name": "HBoxModel",
            "_view_count": null,
            "_view_module": "@jupyter-widgets/controls",
            "_view_module_version": "1.5.0",
            "_view_name": "HBoxView",
            "box_style": "",
            "children": [
              "IPY_MODEL_4f8eb022fc32431c910531905470ab5a",
              "IPY_MODEL_9056945781764274be69eea0869637bc",
              "IPY_MODEL_b398712d851f46feb6df0ec9dcdaee0e"
            ],
            "layout": "IPY_MODEL_d463c733280a49aba450f5226bec107d"
          }
        },
        "4f8eb022fc32431c910531905470ab5a": {
          "model_module": "@jupyter-widgets/controls",
          "model_name": "HTMLModel",
          "model_module_version": "1.5.0",
          "state": {
            "_dom_classes": [],
            "_model_module": "@jupyter-widgets/controls",
            "_model_module_version": "1.5.0",
            "_model_name": "HTMLModel",
            "_view_count": null,
            "_view_module": "@jupyter-widgets/controls",
            "_view_module_version": "1.5.0",
            "_view_name": "HTMLView",
            "description": "",
            "description_tooltip": null,
            "layout": "IPY_MODEL_60dcf5b933ce48928340dd812017c87e",
            "placeholder": "​",
            "style": "IPY_MODEL_b6a1d0d329eb4f91889b6fae0d59f5cb",
            "value": "100%"
          }
        },
        "9056945781764274be69eea0869637bc": {
          "model_module": "@jupyter-widgets/controls",
          "model_name": "FloatProgressModel",
          "model_module_version": "1.5.0",
          "state": {
            "_dom_classes": [],
            "_model_module": "@jupyter-widgets/controls",
            "_model_module_version": "1.5.0",
            "_model_name": "FloatProgressModel",
            "_view_count": null,
            "_view_module": "@jupyter-widgets/controls",
            "_view_module_version": "1.5.0",
            "_view_name": "ProgressView",
            "bar_style": "success",
            "description": "",
            "description_tooltip": null,
            "layout": "IPY_MODEL_06dc7caaadfc466aa79179eef8cb473e",
            "max": 5,
            "min": 0,
            "orientation": "horizontal",
            "style": "IPY_MODEL_0a77aa7244514d829eed9181787a8fed",
            "value": 5
          }
        },
        "b398712d851f46feb6df0ec9dcdaee0e": {
          "model_module": "@jupyter-widgets/controls",
          "model_name": "HTMLModel",
          "model_module_version": "1.5.0",
          "state": {
            "_dom_classes": [],
            "_model_module": "@jupyter-widgets/controls",
            "_model_module_version": "1.5.0",
            "_model_name": "HTMLModel",
            "_view_count": null,
            "_view_module": "@jupyter-widgets/controls",
            "_view_module_version": "1.5.0",
            "_view_name": "HTMLView",
            "description": "",
            "description_tooltip": null,
            "layout": "IPY_MODEL_eb946fed415343058d6a7028c7749bd2",
            "placeholder": "​",
            "style": "IPY_MODEL_eb44b7c15ecc4c0bbd2995c845b5e4bd",
            "value": " 5/5 [00:00&lt;00:00, 348.27it/s]"
          }
        },
        "d463c733280a49aba450f5226bec107d": {
          "model_module": "@jupyter-widgets/base",
          "model_name": "LayoutModel",
          "model_module_version": "1.2.0",
          "state": {
            "_model_module": "@jupyter-widgets/base",
            "_model_module_version": "1.2.0",
            "_model_name": "LayoutModel",
            "_view_count": null,
            "_view_module": "@jupyter-widgets/base",
            "_view_module_version": "1.2.0",
            "_view_name": "LayoutView",
            "align_content": null,
            "align_items": null,
            "align_self": null,
            "border": null,
            "bottom": null,
            "display": null,
            "flex": null,
            "flex_flow": null,
            "grid_area": null,
            "grid_auto_columns": null,
            "grid_auto_flow": null,
            "grid_auto_rows": null,
            "grid_column": null,
            "grid_gap": null,
            "grid_row": null,
            "grid_template_areas": null,
            "grid_template_columns": null,
            "grid_template_rows": null,
            "height": null,
            "justify_content": null,
            "justify_items": null,
            "left": null,
            "margin": null,
            "max_height": null,
            "max_width": null,
            "min_height": null,
            "min_width": null,
            "object_fit": null,
            "object_position": null,
            "order": null,
            "overflow": null,
            "overflow_x": null,
            "overflow_y": null,
            "padding": null,
            "right": null,
            "top": null,
            "visibility": null,
            "width": null
          }
        },
        "60dcf5b933ce48928340dd812017c87e": {
          "model_module": "@jupyter-widgets/base",
          "model_name": "LayoutModel",
          "model_module_version": "1.2.0",
          "state": {
            "_model_module": "@jupyter-widgets/base",
            "_model_module_version": "1.2.0",
            "_model_name": "LayoutModel",
            "_view_count": null,
            "_view_module": "@jupyter-widgets/base",
            "_view_module_version": "1.2.0",
            "_view_name": "LayoutView",
            "align_content": null,
            "align_items": null,
            "align_self": null,
            "border": null,
            "bottom": null,
            "display": null,
            "flex": null,
            "flex_flow": null,
            "grid_area": null,
            "grid_auto_columns": null,
            "grid_auto_flow": null,
            "grid_auto_rows": null,
            "grid_column": null,
            "grid_gap": null,
            "grid_row": null,
            "grid_template_areas": null,
            "grid_template_columns": null,
            "grid_template_rows": null,
            "height": null,
            "justify_content": null,
            "justify_items": null,
            "left": null,
            "margin": null,
            "max_height": null,
            "max_width": null,
            "min_height": null,
            "min_width": null,
            "object_fit": null,
            "object_position": null,
            "order": null,
            "overflow": null,
            "overflow_x": null,
            "overflow_y": null,
            "padding": null,
            "right": null,
            "top": null,
            "visibility": null,
            "width": null
          }
        },
        "b6a1d0d329eb4f91889b6fae0d59f5cb": {
          "model_module": "@jupyter-widgets/controls",
          "model_name": "DescriptionStyleModel",
          "model_module_version": "1.5.0",
          "state": {
            "_model_module": "@jupyter-widgets/controls",
            "_model_module_version": "1.5.0",
            "_model_name": "DescriptionStyleModel",
            "_view_count": null,
            "_view_module": "@jupyter-widgets/base",
            "_view_module_version": "1.2.0",
            "_view_name": "StyleView",
            "description_width": ""
          }
        },
        "06dc7caaadfc466aa79179eef8cb473e": {
          "model_module": "@jupyter-widgets/base",
          "model_name": "LayoutModel",
          "model_module_version": "1.2.0",
          "state": {
            "_model_module": "@jupyter-widgets/base",
            "_model_module_version": "1.2.0",
            "_model_name": "LayoutModel",
            "_view_count": null,
            "_view_module": "@jupyter-widgets/base",
            "_view_module_version": "1.2.0",
            "_view_name": "LayoutView",
            "align_content": null,
            "align_items": null,
            "align_self": null,
            "border": null,
            "bottom": null,
            "display": null,
            "flex": null,
            "flex_flow": null,
            "grid_area": null,
            "grid_auto_columns": null,
            "grid_auto_flow": null,
            "grid_auto_rows": null,
            "grid_column": null,
            "grid_gap": null,
            "grid_row": null,
            "grid_template_areas": null,
            "grid_template_columns": null,
            "grid_template_rows": null,
            "height": null,
            "justify_content": null,
            "justify_items": null,
            "left": null,
            "margin": null,
            "max_height": null,
            "max_width": null,
            "min_height": null,
            "min_width": null,
            "object_fit": null,
            "object_position": null,
            "order": null,
            "overflow": null,
            "overflow_x": null,
            "overflow_y": null,
            "padding": null,
            "right": null,
            "top": null,
            "visibility": null,
            "width": null
          }
        },
        "0a77aa7244514d829eed9181787a8fed": {
          "model_module": "@jupyter-widgets/controls",
          "model_name": "ProgressStyleModel",
          "model_module_version": "1.5.0",
          "state": {
            "_model_module": "@jupyter-widgets/controls",
            "_model_module_version": "1.5.0",
            "_model_name": "ProgressStyleModel",
            "_view_count": null,
            "_view_module": "@jupyter-widgets/base",
            "_view_module_version": "1.2.0",
            "_view_name": "StyleView",
            "bar_color": null,
            "description_width": ""
          }
        },
        "eb946fed415343058d6a7028c7749bd2": {
          "model_module": "@jupyter-widgets/base",
          "model_name": "LayoutModel",
          "model_module_version": "1.2.0",
          "state": {
            "_model_module": "@jupyter-widgets/base",
            "_model_module_version": "1.2.0",
            "_model_name": "LayoutModel",
            "_view_count": null,
            "_view_module": "@jupyter-widgets/base",
            "_view_module_version": "1.2.0",
            "_view_name": "LayoutView",
            "align_content": null,
            "align_items": null,
            "align_self": null,
            "border": null,
            "bottom": null,
            "display": null,
            "flex": null,
            "flex_flow": null,
            "grid_area": null,
            "grid_auto_columns": null,
            "grid_auto_flow": null,
            "grid_auto_rows": null,
            "grid_column": null,
            "grid_gap": null,
            "grid_row": null,
            "grid_template_areas": null,
            "grid_template_columns": null,
            "grid_template_rows": null,
            "height": null,
            "justify_content": null,
            "justify_items": null,
            "left": null,
            "margin": null,
            "max_height": null,
            "max_width": null,
            "min_height": null,
            "min_width": null,
            "object_fit": null,
            "object_position": null,
            "order": null,
            "overflow": null,
            "overflow_x": null,
            "overflow_y": null,
            "padding": null,
            "right": null,
            "top": null,
            "visibility": null,
            "width": null
          }
        },
        "eb44b7c15ecc4c0bbd2995c845b5e4bd": {
          "model_module": "@jupyter-widgets/controls",
          "model_name": "DescriptionStyleModel",
          "model_module_version": "1.5.0",
          "state": {
            "_model_module": "@jupyter-widgets/controls",
            "_model_module_version": "1.5.0",
            "_model_name": "DescriptionStyleModel",
            "_view_count": null,
            "_view_module": "@jupyter-widgets/base",
            "_view_module_version": "1.2.0",
            "_view_name": "StyleView",
            "description_width": ""
          }
        }
      }
    }
  },
  "nbformat": 4,
  "nbformat_minor": 0
}